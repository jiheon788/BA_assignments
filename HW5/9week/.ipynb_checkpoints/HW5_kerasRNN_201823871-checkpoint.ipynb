{
 "cells": [
  {
   "cell_type": "markdown",
   "id": "600350d4-8e0d-4c2a-886d-2a2c38303f04",
   "metadata": {},
   "source": [
    "# HW5_keras RNN\n",
    "## 201823871 박지헌\n",
    "  \n",
    "  \n",
    "## 1. keras embedding을 이용한 문서 분류\n"
   ]
  },
  {
   "cell_type": "code",
   "execution_count": 4,
   "id": "d129ee9a-c779-4317-8007-9a62d157d191",
   "metadata": {},
   "outputs": [
    {
     "name": "stderr",
     "output_type": "stream",
     "text": [
      "[nltk_data] Downloading package movie_reviews to\n",
      "[nltk_data]     C:\\Users\\82104\\AppData\\Roaming\\nltk_data...\n",
      "[nltk_data]   Unzipping corpora\\movie_reviews.zip.\n"
     ]
    },
    {
     "data": {
      "text/plain": [
       "True"
      ]
     },
     "execution_count": 4,
     "metadata": {},
     "output_type": "execute_result"
    }
   ],
   "source": [
    "import nltk\n",
    "nltk.download('movie_reviews')\n",
    "  "
   ]
  },
  {
   "cell_type": "code",
   "execution_count": 5,
   "id": "025c65ff-ee53-4758-b25b-d394d4686df0",
   "metadata": {
    "tags": []
   },
   "outputs": [
    {
     "name": "stdout",
     "output_type": "stream",
     "text": [
      "Reviews count: 2000\n",
      "Length of the first review: 4043\n",
      "Labels: {'neg', 'pos'}\n"
     ]
    }
   ],
   "source": [
    "from nltk.corpus import movie_reviews\n",
    "fileids = movie_reviews.fileids() #movie review data에서 file id를 가져옴\n",
    "\n",
    "reviews = [movie_reviews.raw(fileid) for fileid in fileids] #file id를 이용해 raw text file을 가져옴\n",
    "categories = [movie_reviews.categories(fileid)[0] for fileid in fileids] \n",
    "#file id를 이용해 label로 사용할 category 즉 positive와 negative 정보를 순서대로 가져옴\n",
    "\n",
    "print('Reviews count:', len(reviews))\n",
    "print('Length of the first review:', len(reviews[0]))\n",
    "print('Labels:', set(categories))"
   ]
  },
  {
   "cell_type": "code",
   "execution_count": 7,
   "id": "30304018-057e-49ff-a518-fa7533dc6008",
   "metadata": {},
   "outputs": [
    {
     "name": "stdout",
     "output_type": "stream",
     "text": [
      "num of tokens: 43296\n"
     ]
    }
   ],
   "source": [
    "from keras.preprocessing.text import Tokenizer\n",
    "\n",
    "max_words = 10000\n",
    "\n",
    "tokenizer = Tokenizer(num_words=max_words)\n",
    "tokenizer.fit_on_texts(reviews)\n",
    "\n",
    "X = tokenizer.texts_to_sequences(reviews)\n",
    "# 일반적으로 0이면 unknown, 즉 전체단어의 수가 10000개 - num_words가 넘을 경우, index가 10000-1(for unknown)을 넘어가는 단어는 0으로 처리함\n",
    "#onehot_train = tokenizer.texts_to_matrix(X_train, mode='binary')\n",
    "\n",
    "print('num of tokens:', len(tokenizer.word_index))"
   ]
  },
  {
   "cell_type": "code",
   "execution_count": 8,
   "id": "7f7e1570-84d9-49cb-91b6-9e7f351e141e",
   "metadata": {},
   "outputs": [
    {
     "data": {
      "text/plain": [
       "(2000, 10000)"
      ]
     },
     "execution_count": 8,
     "metadata": {},
     "output_type": "execute_result"
    }
   ],
   "source": [
    "bow = tokenizer.texts_to_matrix(reviews, mode='binary')\n",
    "bow.shape"
   ]
  },
  {
   "cell_type": "code",
   "execution_count": 9,
   "id": "106f130e-399f-43a6-bc97-b4c2a43c26d1",
   "metadata": {},
   "outputs": [
    {
     "name": "stdout",
     "output_type": "stream",
     "text": [
      "[  38    1  328   52   20  769   52   20   52   20    2    4  910  114\n",
      "   52   20 5277    4 1386  171    8  632    3   63    4    9    6  321\n",
      "   25 1957  143   18 2926  120  301  254    5 9489    2   15  150  143\n",
      "    3  102   16   44   35    9   91    6  256  103    1  164 2851  100\n",
      "    3  100  208   18   72  259    4 4077   42   82    2   94   45    6\n",
      "   14  247  954  353   37  613  294   14  133  801    5 3146   16    9\n",
      "  138    5  257    5 3146    9  308  313   64  369  493  226    3   75\n",
      "   36   86  171  439 2795   46   56 1747    7    1 5675   25   92    1\n",
      " 1280  204    6    8    1 4078    3   18  158 5676   19 1711   38   14\n",
      "   39   62  175 4079   63    4    9   40   21    1  268   84  212   39\n",
      "   35    4    1   82    8  197  442    5   86    2   98  251    4  261\n",
      "   16    9  137  248    1   86    1   15   35    8   43  439   18  618\n",
      "    1 1486  311   11  121   38   14    6    8   34  167  245   86  276\n",
      "    8    1  161    6   55    9   56  141   36   20  284    1  801    5\n",
      " 2016  169  145    4 2329   18  570  963 7840  426  221   28 3863   12\n",
      "   41 1430  226  457    1   26    6   50 1684 3592 1123   62   72    9\n",
      "   52   20  101 3024   33    3   62  120  118   27   36   20   75   62\n",
      "   92  437    5   83    9  100    3  100  208   96   41  665  132  316\n",
      "  114 3288 1044 2440   55   35    4    1  159  149    7    1   26  682\n",
      "    1  929  874   14   15  221   28   64  123    3    9   42  491    3\n",
      "    9  336   52 8856   69    2  271  875  948  301 6461   26    7  128\n",
      " 1102   16   18  618    1 2852 1325    8 1729    9   55    2  289  431\n",
      "   11   98 1326   68   86   43  261    1  209   20  271   61   12    1\n",
      "   63  204  187 2594   50  675    5   22  388    1 2109  164   74    8\n",
      "   17  197    7  258 1034   57    7    2  113 5278   16  106  954 5279\n",
      "  130   40    5   27 1543   33  181  457    1  339   15    3  175   32\n",
      "   34  621   33 1526  898    1   15  116 1993   85    9  116 2476   37\n",
      " 1471    9 1358    3    9  648  271 7098   12   63    4   64  400    2\n",
      "  271  690  324    3 1994    5   35    4    1    8  770  141    9  657\n",
      "    3   21    1   84   14    6   25    2  295   46  948 1649  731   37\n",
      "   50    5  177    8   84   85  371    6  682 6792    8    1  521    6\n",
      "  137 1132   11    1  440    9   71 3210  460   76  174  714    3   32\n",
      "   69 1487   19    1 7443  193  194 1045 2853    9 3980 4204  504   28\n",
      "    2 2214    4 7099 1003  640 1211  302 1446 1315  314 1211  302    1\n",
      " 2518 1853  302    1 2518 7100  749  302  341 4203  302  302 8855  302\n",
      "  302    1  485 1853  302 4341    4 3864 1022  302]\n"
     ]
    }
   ],
   "source": [
    "from keras import preprocessing\n",
    "\n",
    "maxlen = 500\n",
    "\n",
    "X = preprocessing.sequence.pad_sequences(X, maxlen=maxlen, truncating='pre')\n",
    "print(X[0])"
   ]
  },
  {
   "cell_type": "code",
   "execution_count": 10,
   "id": "0c6b0428-0291-4d43-b819-fd3d0ed7fd7e",
   "metadata": {},
   "outputs": [
    {
     "name": "stdout",
     "output_type": "stream",
     "text": [
      "[1, 1, 1, 1, 1, 1, 1, 1, 1, 1]\n"
     ]
    }
   ],
   "source": [
    "label_dict = {'pos':0, 'neg':1}\n",
    "y = [label_dict[c] for c in categories]\n",
    "print(y[:10])"
   ]
  },
  {
   "cell_type": "code",
   "execution_count": 11,
   "id": "5897902c-92b9-4ab3-8ef7-f50e6ac40ab2",
   "metadata": {},
   "outputs": [
    {
     "name": "stdout",
     "output_type": "stream",
     "text": [
      "Train set count: 1600\n",
      "Test set count: 400\n",
      "Test samples: [1, 0, 0, 1, 0, 0, 1, 1, 1, 1, 0, 0, 1, 1, 0, 1, 1, 0, 0, 0]\n"
     ]
    }
   ],
   "source": [
    "from sklearn.model_selection import train_test_split #sklearn에서 제공하는 split 함수를 사용\n",
    "X_train, X_test, y_train, y_test = train_test_split(X, y, test_size=0.2, random_state=10)\n",
    "# sklearn의 train_test_split 함수는 먼저 data set을 shuffle하고 주어진 비율에 따라 train set과 test set을 나눠 줌\n",
    "# 위에서는 reviews를 X_train과 X_test로 8:2의 비율로 나누고, categories를 y_train과 y_test로 나눔\n",
    "# 이 때 X와 y의 순서는 동일하게 유지해서 각 입력값과 label이 정확하게 match되도록 함\n",
    "# random_state는 shuffle에서의 seed 값으로, 지정한 경우 항상 동일한 결과로 shuffle이 됨\n",
    "\n",
    "print('Train set count:', len(X_train))\n",
    "print('Test set count:', len(X_test))\n",
    "print('Test samples:', y_test[:20])"
   ]
  },
  {
   "cell_type": "code",
   "execution_count": 14,
   "id": "f1081576-e710-4a7c-886f-e46e33cb8b99",
   "metadata": {},
   "outputs": [
    {
     "name": "stdout",
     "output_type": "stream",
     "text": [
      "Model: \"sequential_2\"\n",
      "_________________________________________________________________\n",
      "Layer (type)                 Output Shape              Param #   \n",
      "=================================================================\n",
      "embedding_2 (Embedding)      (None, 500, 32)           320000    \n",
      "_________________________________________________________________\n",
      "flatten_2 (Flatten)          (None, 16000)             0         \n",
      "_________________________________________________________________\n",
      "dense_2 (Dense)              (None, 1)                 16001     \n",
      "=================================================================\n",
      "Total params: 336,001\n",
      "Trainable params: 336,001\n",
      "Non-trainable params: 0\n",
      "_________________________________________________________________\n",
      "Epoch 1/30\n",
      "5/5 [==============================] - 1s 80ms/step - loss: 0.6930 - acc: 0.5250 - val_loss: 0.6906 - val_acc: 0.5531\n",
      "Epoch 2/30\n",
      "5/5 [==============================] - 0s 45ms/step - loss: 0.6410 - acc: 0.8719 - val_loss: 0.6882 - val_acc: 0.5656\n",
      "Epoch 3/30\n",
      "5/5 [==============================] - 0s 40ms/step - loss: 0.5969 - acc: 0.9391 - val_loss: 0.6851 - val_acc: 0.5500\n",
      "Epoch 4/30\n",
      "5/5 [==============================] - 0s 44ms/step - loss: 0.5513 - acc: 0.9688 - val_loss: 0.6812 - val_acc: 0.5500\n",
      "Epoch 5/30\n",
      "5/5 [==============================] - 0s 41ms/step - loss: 0.5018 - acc: 0.9859 - val_loss: 0.6765 - val_acc: 0.5719\n",
      "Epoch 6/30\n",
      "5/5 [==============================] - 0s 40ms/step - loss: 0.4489 - acc: 0.9836 - val_loss: 0.6704 - val_acc: 0.6062\n",
      "Epoch 7/30\n",
      "5/5 [==============================] - 0s 38ms/step - loss: 0.3964 - acc: 0.9945 - val_loss: 0.6637 - val_acc: 0.6344\n",
      "Epoch 8/30\n",
      "5/5 [==============================] - 0s 45ms/step - loss: 0.3442 - acc: 0.9922 - val_loss: 0.6555 - val_acc: 0.6469\n",
      "Epoch 9/30\n",
      "5/5 [==============================] - 0s 39ms/step - loss: 0.2956 - acc: 0.9977 - val_loss: 0.6471 - val_acc: 0.6938\n",
      "Epoch 10/30\n",
      "5/5 [==============================] - 0s 38ms/step - loss: 0.2500 - acc: 0.9969 - val_loss: 0.6379 - val_acc: 0.6938\n",
      "Epoch 11/30\n",
      "5/5 [==============================] - 0s 47ms/step - loss: 0.2098 - acc: 0.9984 - val_loss: 0.6286 - val_acc: 0.6906\n",
      "Epoch 12/30\n",
      "5/5 [==============================] - 0s 43ms/step - loss: 0.1742 - acc: 1.0000 - val_loss: 0.6199 - val_acc: 0.7063\n",
      "Epoch 13/30\n",
      "5/5 [==============================] - 0s 47ms/step - loss: 0.1438 - acc: 0.9992 - val_loss: 0.6110 - val_acc: 0.7031\n",
      "Epoch 14/30\n",
      "5/5 [==============================] - 0s 42ms/step - loss: 0.1175 - acc: 0.9992 - val_loss: 0.6024 - val_acc: 0.6844\n",
      "Epoch 15/30\n",
      "5/5 [==============================] - 0s 39ms/step - loss: 0.0962 - acc: 1.0000 - val_loss: 0.5945 - val_acc: 0.7000\n",
      "Epoch 16/30\n",
      "5/5 [==============================] - 0s 41ms/step - loss: 0.0776 - acc: 1.0000 - val_loss: 0.5880 - val_acc: 0.6969\n",
      "Epoch 17/30\n",
      "5/5 [==============================] - 0s 43ms/step - loss: 0.0633 - acc: 1.0000 - val_loss: 0.5802 - val_acc: 0.7125\n",
      "Epoch 18/30\n",
      "5/5 [==============================] - 0s 40ms/step - loss: 0.0507 - acc: 1.0000 - val_loss: 0.5734 - val_acc: 0.7125\n",
      "Epoch 19/30\n",
      "5/5 [==============================] - 0s 44ms/step - loss: 0.0407 - acc: 1.0000 - val_loss: 0.5678 - val_acc: 0.6969\n",
      "Epoch 20/30\n",
      "5/5 [==============================] - 0s 47ms/step - loss: 0.0326 - acc: 1.0000 - val_loss: 0.5617 - val_acc: 0.7188\n",
      "Epoch 21/30\n",
      "5/5 [==============================] - 0s 44ms/step - loss: 0.0261 - acc: 1.0000 - val_loss: 0.5569 - val_acc: 0.7188\n",
      "Epoch 22/30\n",
      "5/5 [==============================] - 0s 41ms/step - loss: 0.0208 - acc: 1.0000 - val_loss: 0.5521 - val_acc: 0.7188\n",
      "Epoch 23/30\n",
      "5/5 [==============================] - 0s 38ms/step - loss: 0.0166 - acc: 1.0000 - val_loss: 0.5471 - val_acc: 0.7188\n",
      "Epoch 24/30\n",
      "5/5 [==============================] - 0s 41ms/step - loss: 0.0131 - acc: 1.0000 - val_loss: 0.5429 - val_acc: 0.7312\n",
      "Epoch 25/30\n",
      "5/5 [==============================] - 0s 44ms/step - loss: 0.0105 - acc: 1.0000 - val_loss: 0.5393 - val_acc: 0.7312\n",
      "Epoch 26/30\n",
      "5/5 [==============================] - 0s 48ms/step - loss: 0.0084 - acc: 1.0000 - val_loss: 0.5372 - val_acc: 0.7437\n",
      "Epoch 27/30\n",
      "5/5 [==============================] - 0s 44ms/step - loss: 0.0066 - acc: 1.0000 - val_loss: 0.5346 - val_acc: 0.7469\n",
      "Epoch 28/30\n",
      "5/5 [==============================] - 0s 52ms/step - loss: 0.0052 - acc: 1.0000 - val_loss: 0.5316 - val_acc: 0.7312\n",
      "Epoch 29/30\n",
      "5/5 [==============================] - 0s 43ms/step - loss: 0.0041 - acc: 1.0000 - val_loss: 0.5298 - val_acc: 0.7469\n",
      "Epoch 30/30\n",
      "5/5 [==============================] - 0s 41ms/step - loss: 0.0033 - acc: 1.0000 - val_loss: 0.5262 - val_acc: 0.7375\n"
     ]
    }
   ],
   "source": [
    "from keras.models import Sequential\n",
    "from keras.layers import Flatten, Dense, Embedding\n",
    "import numpy as np\n",
    "\n",
    "model = Sequential()\n",
    "model.add(Embedding(max_words, 32, input_length=maxlen))\n",
    "model.add(Flatten())\n",
    "model.add(Dense(1, activation='sigmoid'))\n",
    "model.compile(optimizer='rmsprop', loss='binary_crossentropy', metrics=['acc'])\n",
    "model.summary()\n",
    "y_train = np.array(y_train)\n",
    "history = model.fit(X_train, y_train, \n",
    "                    epochs=30,\n",
    "                    batch_size=256,\n",
    "                    validation_split=0.2)"
   ]
  },
  {
   "cell_type": "code",
   "execution_count": null,
   "id": "e93ec84a-1297-4a87-a2a0-2bfcc84ffb5d",
   "metadata": {},
   "outputs": [],
   "source": []
  },
  {
   "cell_type": "code",
   "execution_count": 17,
   "id": "7c3de8a4-ad15-4aeb-8b82-4d74d564bd4f",
   "metadata": {},
   "outputs": [
    {
     "data": {
      "image/png": "[encoded data removed]",
      "text/plain": [
       "<Figure size 432x288 with 1 Axes>"
      ]
     },
     "metadata": {
      "needs_background": "light"
     },
     "output_type": "display_data"
    }
   ],
   "source": [
    "%matplotlib inline\n",
    "import matplotlib.pyplot as plt\n",
    "\n",
    "history_dict = history.history\n",
    "loss = history_dict['loss']\n",
    "val_loss = history_dict['val_loss']\n",
    "\n",
    "epochs = range(1, len(loss) + 1)\n",
    "\n",
    "plt.plot(epochs, loss, 'bo', label='Training loss')\n",
    "plt.plot(epochs, val_loss, 'r', label='Validation loss')\n",
    "plt.title('Training and validation loss')\n",
    "plt.xlabel('Epochs')\n",
    "plt.ylabel('Loss')\n",
    "plt.legend()\n",
    "\n",
    "plt.show()"
   ]
  },
  {
   "cell_type": "code",
   "execution_count": 19,
   "id": "bdb1043e-368e-462f-af58-06a756a89d15",
   "metadata": {},
   "outputs": [
    {
     "name": "stdout",
     "output_type": "stream",
     "text": [
      "13/13 [==============================] - 0s 2ms/step - loss: 0.5362 - acc: 0.7125\n",
      "[0.5362428426742554, 0.7124999761581421]\n"
     ]
    }
   ],
   "source": [
    "score = model.evaluate(np.array(X_test), np.array(y_test))\n",
    "print(score)"
   ]
  },
  {
   "cell_type": "code",
   "execution_count": 20,
   "id": "ebd1ed34-2724-4de2-82f2-7597199489c7",
   "metadata": {},
   "outputs": [
    {
     "name": "stdout",
     "output_type": "stream",
     "text": [
      "Model: \"sequential_3\"\n",
      "_________________________________________________________________\n",
      "Layer (type)                 Output Shape              Param #   \n",
      "=================================================================\n",
      "embedding_3 (Embedding)      (None, None, 32)          320000    \n",
      "_________________________________________________________________\n",
      "lstm (LSTM)                  (None, 32)                8320      \n",
      "_________________________________________________________________\n",
      "dense_3 (Dense)              (None, 1)                 33        \n",
      "=================================================================\n",
      "Total params: 328,353\n",
      "Trainable params: 328,353\n",
      "Non-trainable params: 0\n",
      "_________________________________________________________________\n"
     ]
    }
   ],
   "source": [
    "from keras.layers import SimpleRNN, LSTM\n",
    "\n",
    "model = Sequential()\n",
    "model.add(Embedding(max_words, 32))\n",
    "#model.add(SimpleRNN(32))\n",
    "model.add(LSTM(32))\n",
    "model.add(Dense(1, activation='sigmoid'))\n",
    "model.summary()"
   ]
  },
  {
   "cell_type": "code",
   "execution_count": 21,
   "id": "79e2875c-27d9-45bc-9eb0-7384e90844ee",
   "metadata": {},
   "outputs": [
    {
     "name": "stdout",
     "output_type": "stream",
     "text": [
      "Epoch 1/30\n",
      "5/5 [==============================] - 4s 603ms/step - loss: 0.6934 - acc: 0.4852 - val_loss: 0.6927 - val_acc: 0.5281\n",
      "Epoch 2/30\n",
      "5/5 [==============================] - 3s 636ms/step - loss: 0.6893 - acc: 0.6664 - val_loss: 0.6914 - val_acc: 0.5500\n",
      "Epoch 3/30\n",
      "5/5 [==============================] - 3s 653ms/step - loss: 0.6801 - acc: 0.7688 - val_loss: 0.6873 - val_acc: 0.5781\n",
      "Epoch 4/30\n",
      "5/5 [==============================] - 3s 665ms/step - loss: 0.6523 - acc: 0.8062 - val_loss: 0.9420 - val_acc: 0.5063\n",
      "Epoch 5/30\n",
      "5/5 [==============================] - 3s 622ms/step - loss: 0.6503 - acc: 0.8188 - val_loss: 0.6444 - val_acc: 0.6594\n",
      "Epoch 6/30\n",
      "5/5 [==============================] - 4s 783ms/step - loss: 0.5421 - acc: 0.8117 - val_loss: 0.6536 - val_acc: 0.6313\n",
      "Epoch 7/30\n",
      "5/5 [==============================] - 4s 739ms/step - loss: 0.5321 - acc: 0.9062 - val_loss: 0.5784 - val_acc: 0.7469\n",
      "Epoch 8/30\n",
      "5/5 [==============================] - 4s 751ms/step - loss: 0.3926 - acc: 0.9273 - val_loss: 0.8905 - val_acc: 0.6281\n",
      "Epoch 9/30\n",
      "5/5 [==============================] - 4s 723ms/step - loss: 0.4411 - acc: 0.8328 - val_loss: 0.5588 - val_acc: 0.7312\n",
      "Epoch 10/30\n",
      "5/5 [==============================] - 4s 744ms/step - loss: 0.3159 - acc: 0.9430 - val_loss: 0.5002 - val_acc: 0.7844\n",
      "Epoch 11/30\n",
      "5/5 [==============================] - 4s 729ms/step - loss: 0.2961 - acc: 0.9336 - val_loss: 0.5046 - val_acc: 0.7656\n",
      "Epoch 12/30\n",
      "5/5 [==============================] - 4s 761ms/step - loss: 0.2596 - acc: 0.9461 - val_loss: 0.5073 - val_acc: 0.7719\n",
      "Epoch 13/30\n",
      "5/5 [==============================] - 4s 811ms/step - loss: 0.2587 - acc: 0.9547 - val_loss: 0.4724 - val_acc: 0.8031\n",
      "Epoch 14/30\n",
      "5/5 [==============================] - 4s 730ms/step - loss: 0.1928 - acc: 0.9734 - val_loss: 0.4583 - val_acc: 0.7969\n",
      "Epoch 15/30\n",
      "5/5 [==============================] - 4s 764ms/step - loss: 0.1814 - acc: 0.9727 - val_loss: 0.4568 - val_acc: 0.8125\n",
      "Epoch 16/30\n",
      "5/5 [==============================] - 4s 794ms/step - loss: 0.1681 - acc: 0.9742 - val_loss: 0.6430 - val_acc: 0.6531\n",
      "Epoch 17/30\n",
      "5/5 [==============================] - 4s 798ms/step - loss: 0.1921 - acc: 0.9633 - val_loss: 0.5043 - val_acc: 0.7844\n",
      "Epoch 18/30\n",
      "5/5 [==============================] - 4s 772ms/step - loss: 0.1509 - acc: 0.9688 - val_loss: 0.4980 - val_acc: 0.7563\n",
      "Epoch 19/30\n",
      "5/5 [==============================] - 4s 843ms/step - loss: 0.1233 - acc: 0.9883 - val_loss: 0.5170 - val_acc: 0.7750\n",
      "Epoch 20/30\n",
      "5/5 [==============================] - 5s 977ms/step - loss: 0.0916 - acc: 0.9898 - val_loss: 1.2034 - val_acc: 0.6656\n",
      "Epoch 21/30\n",
      "5/5 [==============================] - 5s 1s/step - loss: 0.2423 - acc: 0.9359 - val_loss: 0.4762 - val_acc: 0.7875\n",
      "Epoch 22/30\n",
      "5/5 [==============================] - 5s 1s/step - loss: 0.0783 - acc: 0.9914 - val_loss: 0.5843 - val_acc: 0.7719\n",
      "Epoch 23/30\n",
      "5/5 [==============================] - 5s 910ms/step - loss: 0.0668 - acc: 0.9945 - val_loss: 0.5015 - val_acc: 0.7906\n",
      "Epoch 24/30\n",
      "5/5 [==============================] - 5s 1s/step - loss: 0.0591 - acc: 0.9977 - val_loss: 0.5714 - val_acc: 0.7688\n",
      "Epoch 25/30\n",
      "5/5 [==============================] - 5s 962ms/step - loss: 0.0508 - acc: 0.9977 - val_loss: 0.6606 - val_acc: 0.7469\n",
      "Epoch 26/30\n",
      "5/5 [==============================] - 5s 964ms/step - loss: 0.4032 - acc: 0.8484 - val_loss: 0.5034 - val_acc: 0.8000\n",
      "Epoch 27/30\n",
      "5/5 [==============================] - 5s 979ms/step - loss: 0.0548 - acc: 1.0000 - val_loss: 0.6211 - val_acc: 0.7688\n",
      "Epoch 28/30\n",
      "5/5 [==============================] - 5s 1s/step - loss: 0.0503 - acc: 0.9992 - val_loss: 0.5276 - val_acc: 0.7906\n",
      "Epoch 29/30\n",
      "5/5 [==============================] - 5s 910ms/step - loss: 0.0442 - acc: 0.9992 - val_loss: 0.5616 - val_acc: 0.7875\n",
      "Epoch 30/30\n",
      "5/5 [==============================] - 5s 970ms/step - loss: 0.0410 - acc: 0.9992 - val_loss: 0.5521 - val_acc: 0.7750\n"
     ]
    }
   ],
   "source": [
    "model.compile(optimizer='rmsprop', loss='binary_crossentropy', metrics=['acc'])\n",
    "\n",
    "history = model.fit(X_train, y_train, \n",
    "                    epochs=30,\n",
    "                    batch_size=256,\n",
    "                    validation_split=0.2)"
   ]
  },
  {
   "cell_type": "code",
   "execution_count": 22,
   "id": "ddfa5a15-5757-4de6-9a8b-a00462f16b14",
   "metadata": {},
   "outputs": [
    {
     "data": {
      "image/png": "[encoded data removed]",
      "text/plain": [
       "<Figure size 432x288 with 1 Axes>"
      ]
     },
     "metadata": {
      "needs_background": "light"
     },
     "output_type": "display_data"
    }
   ],
   "source": [
    "history_dict = history.history\n",
    "loss = history_dict['loss']\n",
    "val_loss = history_dict['val_loss']\n",
    "\n",
    "epochs = range(1, len(loss) + 1)\n",
    "\n",
    "plt.plot(epochs, loss, 'bo', label='Training loss')\n",
    "plt.plot(epochs, val_loss, 'r', label='Validation loss')\n",
    "plt.title('Training and validation loss')\n",
    "plt.xlabel('Epochs')\n",
    "plt.ylabel('Loss')\n",
    "plt.legend()\n",
    "\n",
    "plt.show()"
   ]
  },
  {
   "cell_type": "code",
   "execution_count": 13,
   "id": "495db491-1b17-47ef-b97f-3812a5a0132c",
   "metadata": {},
   "outputs": [
    {
     "data": {
      "image/png": "[encoded data removed]",
      "text/plain": [
       "<Figure size 432x288 with 1 Axes>"
      ]
     },
     "metadata": {
      "needs_background": "light"
     },
     "output_type": "display_data"
    }
   ],
   "source": [
    "history_dict = history.history\n",
    "acc = history_dict['acc']\n",
    "val_acc = history_dict['val_acc']\n",
    "\n",
    "epochs = range(1, len(acc) + 1)\n",
    "\n",
    "plt.plot(epochs, acc, 'bo', label='Training acc')\n",
    "plt.plot(epochs, val_acc, 'r', label='Validation acc')\n",
    "plt.title('Training and validation acc')\n",
    "plt.xlabel('Epochs')\n",
    "plt.ylabel('Accuracy')\n",
    "plt.legend()\n",
    "\n",
    "plt.show()"
   ]
  },
  {
   "cell_type": "code",
   "execution_count": 24,
   "id": "03ceaa47-4db4-4e6e-8815-58b4f1fcc629",
   "metadata": {},
   "outputs": [
    {
     "name": "stdout",
     "output_type": "stream",
     "text": [
      "13/13 [==============================] - 1s 38ms/step - loss: 0.5672 - acc: 0.7775\n",
      "[0.5672404170036316, 0.7774999737739563]\n"
     ]
    }
   ],
   "source": [
    "score = model.evaluate(np.array(X_test), np.array(y_test))\n",
    "print(score)"
   ]
  }
 ],
 "metadata": {
  "kernelspec": {
   "display_name": "Python 3",
   "language": "python",
   "name": "python3"
  },
  "language_info": {
   "codemirror_mode": {
    "name": "ipython",
    "version": 3
   },
   "file_extension": ".py",
   "mimetype": "text/x-python",
   "name": "python",
   "nbconvert_exporter": "python",
   "pygments_lexer": "ipython3",
   "version": "3.8.8"
  }
 },
 "nbformat": 4,
 "nbformat_minor": 5
}
