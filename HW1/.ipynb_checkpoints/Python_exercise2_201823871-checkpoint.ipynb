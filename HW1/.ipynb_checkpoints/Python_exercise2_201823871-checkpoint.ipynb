{
 "cells": [
  {
   "cell_type": "markdown",
   "id": "2358174c-2c1f-4bd8-ade3-97bb1b43d1fc",
   "metadata": {},
   "source": [
    "# 파이썬 스타일 코드2 - 연습해보기\n",
    "# 실습코드\n",
    "**201823871 박지헌**"
   ]
  },
  {
   "cell_type": "markdown",
   "id": "ffa03ddf-df48-4070-9c2d-1d11bdb036da",
   "metadata": {},
   "source": [
    "## 1. 람다함수\n",
    "### 1.1.기존 함수"
   ]
  },
  {
   "cell_type": "code",
   "execution_count": 2,
   "id": "8de01023-f920-41a3-9dc0-97a969b6b2a1",
   "metadata": {},
   "outputs": [
    {
     "name": "stdout",
     "output_type": "stream",
     "text": [
      "5\n"
     ]
    }
   ],
   "source": [
    "def add(x, y):\n",
    "    return x + y\n",
    "\n",
    "print(add(1,4))"
   ]
  },
  {
   "cell_type": "markdown",
   "id": "f02e60ac-efb5-4ab4-b7e4-2e351614155c",
   "metadata": {},
   "source": [
    "### 1.2. lambda 함수 할당"
   ]
  },
  {
   "cell_type": "code",
   "execution_count": 3,
   "id": "1d53b47d-5ff7-4f5c-9f86-001e16dd8bae",
   "metadata": {},
   "outputs": [
    {
     "name": "stdout",
     "output_type": "stream",
     "text": [
      "5\n"
     ]
    }
   ],
   "source": [
    "f = lambda x, y: x + y\n",
    "print(f(1, 4))"
   ]
  },
  {
   "cell_type": "markdown",
   "id": "98e28948-ca2f-4f8b-b36d-287dec4f3d3e",
   "metadata": {},
   "source": [
    "### 1.3. 익명의 lambda 함수"
   ]
  },
  {
   "cell_type": "code",
   "execution_count": 4,
   "id": "cc778826-320d-44fe-8d45-ab9004d5c7df",
   "metadata": {},
   "outputs": [
    {
     "name": "stdout",
     "output_type": "stream",
     "text": [
      "5\n"
     ]
    }
   ],
   "source": [
    "print((lambda x, y: x + y)(1, 4))"
   ]
  },
  {
   "cell_type": "markdown",
   "id": "5dae5a5c-f34e-4603-a248-676371971433",
   "metadata": {},
   "source": [
    "## 2. 맵리듀스\n",
    "### 2.1. map 함수"
   ]
  },
  {
   "cell_type": "code",
   "execution_count": 7,
   "id": "8beab46d-a039-4950-b801-865b559cea97",
   "metadata": {},
   "outputs": [
    {
     "name": "stdout",
     "output_type": "stream",
     "text": [
      "[1, 4, 9, 16, 25]\n"
     ]
    }
   ],
   "source": [
    "ex = [1, 2, 3, 4, 5]\n",
    "f = lambda x:x ** 2\n",
    "print(list(map(f,ex)))"
   ]
  },
  {
   "cell_type": "code",
   "execution_count": 5,
   "id": "9664ffa3-8cce-41e0-959f-c4319edac1d3",
   "metadata": {},
   "outputs": [
    {
     "name": "stdout",
     "output_type": "stream",
     "text": [
      "1\n",
      "4\n",
      "9\n",
      "16\n",
      "25\n"
     ]
    }
   ],
   "source": [
    "ex = [1, 2, 3, 4, 5]\n",
    "f = lambda x:x ** 2\n",
    "for value in map(f, ex):\n",
    "    print(value)"
   ]
  },
  {
   "cell_type": "code",
   "execution_count": 8,
   "id": "e2369427-b01d-42da-9521-4b2f9e0d61c6",
   "metadata": {},
   "outputs": [
    {
     "data": {
      "text/plain": [
       "[1, 4, 9, 16, 25]"
      ]
     },
     "execution_count": 8,
     "metadata": {},
     "output_type": "execute_result"
    }
   ],
   "source": [
    "ex = [1, 2, 3, 4, 5]\n",
    "[x ** 2 for x in ex]"
   ]
  },
  {
   "cell_type": "code",
   "execution_count": 9,
   "id": "4d5c31a5-8e4d-4043-b9c2-a83f66bc1b53",
   "metadata": {},
   "outputs": [
    {
     "data": {
      "text/plain": [
       "[2, 4, 6, 8, 10]"
      ]
     },
     "execution_count": 9,
     "metadata": {},
     "output_type": "execute_result"
    }
   ],
   "source": [
    "ex = [1, 2, 3, 4, 5]\n",
    "f = lambda x, y: x + y\n",
    "list(map(f,ex,ex))"
   ]
  },
  {
   "cell_type": "code",
   "execution_count": 10,
   "id": "5a6e3b41-a9c1-4443-8729-55752651947d",
   "metadata": {},
   "outputs": [
    {
     "data": {
      "text/plain": [
       "[2, 4, 6, 8, 10]"
      ]
     },
     "execution_count": 10,
     "metadata": {},
     "output_type": "execute_result"
    }
   ],
   "source": [
    "[x + y for x, y in zip(ex, ex)]"
   ]
  },
  {
   "cell_type": "markdown",
   "id": "baf7266d-d7da-424a-b69f-19a9c94e869e",
   "metadata": {},
   "source": [
    "### 2.2. reduce 함수"
   ]
  },
  {
   "cell_type": "code",
   "execution_count": 11,
   "id": "df913c2d-ad88-4472-b2f6-ec936b86e140",
   "metadata": {},
   "outputs": [],
   "source": [
    "from functools import reduce"
   ]
  },
  {
   "cell_type": "code",
   "execution_count": 12,
   "id": "38d34581-87b7-43e3-bbce-2311c1c49459",
   "metadata": {},
   "outputs": [
    {
     "name": "stdout",
     "output_type": "stream",
     "text": [
      "15\n"
     ]
    }
   ],
   "source": [
    "print(reduce(lambda x, y: x + y, [1, 2, 3, 4, 5]))"
   ]
  },
  {
   "cell_type": "markdown",
   "id": "dd8f7f35-e0da-4ef2-ae27-526d82e84e7b",
   "metadata": {},
   "source": [
    "*비교코드*"
   ]
  },
  {
   "cell_type": "code",
   "execution_count": 13,
   "id": "38f3775d-4aa4-4391-addb-b6c2ffa905ed",
   "metadata": {},
   "outputs": [
    {
     "name": "stdout",
     "output_type": "stream",
     "text": [
      "15\n"
     ]
    }
   ],
   "source": [
    "x = 0\n",
    "for y in [1, 2, 3, 4, 5]:\n",
    "    x += y\n",
    "print(x)"
   ]
  },
  {
   "cell_type": "code",
   "execution_count": 14,
   "id": "c4274f4c-d1c6-44e3-84de-43bcee4cf544",
   "metadata": {},
   "outputs": [
    {
     "data": {
      "text/plain": [
       "15"
      ]
     },
     "execution_count": 14,
     "metadata": {},
     "output_type": "execute_result"
    }
   ],
   "source": [
    "sum([1, 2, 3, 4, 5])"
   ]
  },
  {
   "cell_type": "markdown",
   "id": "e246da1c-864b-4ab5-a1de-8185da5f4f65",
   "metadata": {},
   "source": [
    "## 3. 별표의 활용\n",
    "### 3.1. 가변 인수로 활용"
   ]
  },
  {
   "cell_type": "code",
   "execution_count": 15,
   "id": "189749a4-2b08-45f6-bffb-7c0ccf32670e",
   "metadata": {},
   "outputs": [
    {
     "name": "stdout",
     "output_type": "stream",
     "text": [
      "1 (2, 3, 4, 5, 6)\n",
      "<class 'tuple'>\n",
      "<class 'int'>\n"
     ]
    }
   ],
   "source": [
    "# 가변인수\n",
    "def asterisk_test(a, *args):\n",
    "    print(a, args)\n",
    "    print(type(args))\n",
    "    print(type(a))\n",
    "    \n",
    "asterisk_test(1,2,3,4,5,6)"
   ]
  },
  {
   "cell_type": "code",
   "execution_count": 18,
   "id": "1f7088a7-2b64-4bf6-a6d7-c80bec7a1415",
   "metadata": {},
   "outputs": [
    {
     "name": "stdout",
     "output_type": "stream",
     "text": [
      "1 {'b': 2, 'c': 3, 'd': 4, 'e': 5, 'f': 6}\n",
      "<class 'dict'>\n"
     ]
    }
   ],
   "source": [
    "# 키워드 가변 인수\n",
    "def asterisk_test2(a, **kargs):\n",
    "    print(a, kargs)\n",
    "    print(type(kargs))\n",
    "    \n",
    "asterisk_test2(1,b=2,c=3,d=4,e=5,f=6)"
   ]
  },
  {
   "cell_type": "markdown",
   "id": "357ed74b-1204-448f-af9e-7d2dfe7aacae",
   "metadata": {},
   "source": [
    "### 3.2. 별표의 언패킹 기능"
   ]
  },
  {
   "cell_type": "code",
   "execution_count": 19,
   "id": "be38777d-2bff-418c-ac0e-e46eb88d6b76",
   "metadata": {},
   "outputs": [
    {
     "name": "stdout",
     "output_type": "stream",
     "text": [
      "1 2 3 4 5 6\n",
      "<class 'tuple'>\n",
      "<class 'int'>\n"
     ]
    }
   ],
   "source": [
    "# 함수에서의 사용\n",
    "def asterisk_test(a, args):\n",
    "    print(a, *args)\n",
    "    print(type(args))\n",
    "    print(type(a))\n",
    "    \n",
    "asterisk_test(1,(2,3,4,5,6))"
   ]
  },
  {
   "cell_type": "code",
   "execution_count": 20,
   "id": "4588b3b1-3cf3-4967-bdb0-b9178443b048",
   "metadata": {},
   "outputs": [
    {
     "name": "stdout",
     "output_type": "stream",
     "text": [
      "[1, 2] [3, 4] [5, 6]\n",
      "[1, 2] [3, 4] [5, 6]\n"
     ]
    }
   ],
   "source": [
    "# 일반 자료형에서의 사용\n",
    "a,b,c=([1,2], [3,4], [5,6])\n",
    "print(a,b,c)\n",
    "data=([1,2], [3,4], [5,6])\n",
    "print(*data)\n"
   ]
  },
  {
   "cell_type": "code",
   "execution_count": 21,
   "id": "f0b1ff98-ce1c-4a82-965f-7c5e0898f124",
   "metadata": {},
   "outputs": [
    {
     "name": "stdout",
     "output_type": "stream",
     "text": [
      "(1, 3, 5)\n",
      "<class 'tuple'>\n",
      "(2, 4, 6)\n",
      "<class 'tuple'>\n"
     ]
    }
   ],
   "source": [
    "# zip 함수와의 응용\n",
    "for data in zip(*[[1,2],[3,4],[5,6]]):\n",
    "    print(data)\n",
    "    print(type(data))"
   ]
  },
  {
   "cell_type": "code",
   "execution_count": 22,
   "id": "0efcd5c3-8039-4d4c-9e5f-572b59f3b7a8",
   "metadata": {},
   "outputs": [
    {
     "name": "stdout",
     "output_type": "stream",
     "text": [
      "10 1 2 3\n"
     ]
    }
   ],
   "source": [
    "# 키워드 가변 인수 응용\n",
    "def asterisk_test(a,b,c,d):\n",
    "    print(a,b,c,d)\n",
    "data={\"b\":1, \"c\":2, \"d\":3}\n",
    "asterisk_test(10, **data)"
   ]
  },
  {
   "cell_type": "markdown",
   "id": "5e192bb7-31a0-4e0a-bf87-904732bf9212",
   "metadata": {},
   "source": [
    "## 4. 선형대수학\n",
    "### 4.1. 파이썬 스타일 코드로 표현한 벡터"
   ]
  },
  {
   "cell_type": "code",
   "execution_count": 24,
   "id": "f4fbbac5-d48c-4d55-91db-dbc935b2e55c",
   "metadata": {},
   "outputs": [],
   "source": [
    "vector_a = [1, 2, 10] # 리스트로 표현한 경우\n",
    "vector_b = (1, 2, 10) # 튜플로 표현한 경우\n",
    "vector_c = {'x':1, 'y':2, 'z':10} # 딕셔너리로 표현한 경우"
   ]
  },
  {
   "cell_type": "markdown",
   "id": "26bb3cf0-b8df-4b30-9c1b-46618de61436",
   "metadata": {},
   "source": [
    "* 벡터의 연산: 벡터합\n",
    "$$ [2, 2] + [2, 3] + [3, 5] = [7, 10] $$"
   ]
  },
  {
   "cell_type": "code",
   "execution_count": 25,
   "id": "d3238f30-80ac-4aee-8fa8-94ef1579ad0b",
   "metadata": {},
   "outputs": [
    {
     "name": "stdout",
     "output_type": "stream",
     "text": [
      "[7, 10]\n"
     ]
    }
   ],
   "source": [
    "u = [2, 2]\n",
    "v = [2, 3]\n",
    "z = [3, 5]\n",
    "result=[]\n",
    "for i in range(len(u)):\n",
    "    result.append(u[i]+v[i]+z[i])\n",
    "print(result)"
   ]
  },
  {
   "cell_type": "code",
   "execution_count": 26,
   "id": "7220bbe6-7c2a-4a98-8e02-14a1bcf6e606",
   "metadata": {},
   "outputs": [
    {
     "name": "stdout",
     "output_type": "stream",
     "text": [
      "[7, 10]\n"
     ]
    }
   ],
   "source": [
    "u=[2,2]\n",
    "v=[2,3]\n",
    "z=[3,5]\n",
    "result=[sum(t) for t in zip(u,v,z)]\n",
    "print(result)"
   ]
  },
  {
   "cell_type": "code",
   "execution_count": 29,
   "id": "2f2362a9-9404-4c8c-8d8b-db7b0bf52d4a",
   "metadata": {},
   "outputs": [
    {
     "data": {
      "text/plain": [
       "[7, 10]"
      ]
     },
     "execution_count": 29,
     "metadata": {},
     "output_type": "execute_result"
    }
   ],
   "source": [
    "def vector_addition(*args):\n",
    "    return [sum(t) for t in zip(*args)] \n",
    "\n",
    "vector_addition(u,v,z)"
   ]
  },
  {
   "cell_type": "code",
   "execution_count": 30,
   "id": "f338b02a-e12f-462e-a739-7ac728806dbe",
   "metadata": {},
   "outputs": [
    {
     "data": {
      "text/plain": [
       "[3, 3]"
      ]
     },
     "execution_count": 30,
     "metadata": {},
     "output_type": "execute_result"
    }
   ],
   "source": [
    "# 간단한 두벡터의 합\n",
    "a = [1, 1]\n",
    "b = [2, 2]\n",
    "[x + y for x, y in zip(a, b)]\n"
   ]
  },
  {
   "cell_type": "markdown",
   "id": "80310da2-f047-4e82-81ba-56b4576c59e8",
   "metadata": {},
   "source": [
    "* 벡터의 연산: 스칼라곱\n",
    "$$ 2([1, 2, 3] + [4, 4, 4]) = 2[5, 6, 7] = [10, 12, 14] $$\n"
   ]
  },
  {
   "cell_type": "code",
   "execution_count": 31,
   "id": "a79d776f-bd36-4e1a-9173-b8711297e2a4",
   "metadata": {},
   "outputs": [
    {
     "data": {
      "text/plain": [
       "[10, 12, 14]"
      ]
     },
     "execution_count": 31,
     "metadata": {},
     "output_type": "execute_result"
    }
   ],
   "source": [
    "u=[1,2,3]\n",
    "v=[4,4,4]\n",
    "alpha=2\n",
    "result=[alpha*sum(t) for t in zip(u,v)]\n",
    "result"
   ]
  },
  {
   "cell_type": "markdown",
   "id": "5f14008f-2193-4915-90f4-c1bc93a8f4bf",
   "metadata": {},
   "source": [
    "### 4.2. 파이썬 스타일코드로 표현한 행렬"
   ]
  },
  {
   "cell_type": "code",
   "execution_count": 32,
   "id": "66ec8a23-ed60-44f8-8d3d-4df36b410c5e",
   "metadata": {},
   "outputs": [],
   "source": [
    "matrix_a=[[3,6], [4,5]] #리스트로 표현한 경우\n",
    "matrix_b=[(3,6), (4,5)] #튜플로 표현한 경우\n",
    "matrix_c={(0,0):3, (0,1):6, (1,0):4, (1,1):5} #딕셔너리로 표현한경우"
   ]
  },
  {
   "cell_type": "code",
   "execution_count": 34,
   "id": "2f541e1a-e9de-4e1a-921d-af525fb25dcd",
   "metadata": {},
   "outputs": [
    {
     "name": "stdout",
     "output_type": "stream",
     "text": [
      "[[8, 14], [10, 12]]\n"
     ]
    }
   ],
   "source": [
    "matrix_a=[\n",
    "    [3,6],\n",
    "    [4,5]]\n",
    "matrix_b=[\n",
    "    [5,8],\n",
    "    [6,7]]\n",
    "\n",
    "result=[[sum(row) for row in zip(*t)] for t in zip(matrix_a, matrix_b)]\n",
    "print(result)"
   ]
  },
  {
   "cell_type": "markdown",
   "id": "404053cf-da58-4fe9-a5dc-8ff624874c4a",
   "metadata": {},
   "source": [
    "***\n",
    "# 일반문제\n",
    "## 주민등록번호로 성별 찾기 with map\n",
    "$$ Q: lambda와 map을 사용하여 위의 리스트에서 출력결과 예시와 같이 성별을 나타내는 값을 추\n",
    "출하시오. $$"
   ]
  },
  {
   "cell_type": "code",
   "execution_count": 35,
   "id": "b171c2f1-ed75-48a0-a18c-c80ed0602ab8",
   "metadata": {},
   "outputs": [
    {
     "data": {
      "text/plain": [
       "['1', '2', '1', '1']"
      ]
     },
     "execution_count": 35,
     "metadata": {},
     "output_type": "execute_result"
    }
   ],
   "source": [
    "pins = [\"891120-1234567\", \"931120-2335567\", \"911120-1234234\", \"951120-1234567\"]\n",
    "list(map(lambda x: x.split(\"-\")[1][0], pins))"
   ]
  },
  {
   "cell_type": "markdown",
   "id": "dfa99f57-bfdb-4c39-8a9e-3e41ff2897e4",
   "metadata": {},
   "source": [
    "***\n",
    "# 도전문제\n",
    "## 벡터의 내적\n",
    "$$ Q: 크기가 같은 두 벡터 (list 형태)를 받으면 이를 내적한 값을 도출하는 함수 dot을 구현하고,\n",
    "이를 활용하여 a=[1, 2], b=[3,4]를 내적한 값을 구하시오.\n",
    " $$"
   ]
  },
  {
   "cell_type": "code",
   "execution_count": 36,
   "id": "c7e932fd-5838-4180-b35c-5a8be6fcbe0c",
   "metadata": {},
   "outputs": [
    {
     "data": {
      "text/plain": [
       "11"
      ]
     },
     "execution_count": 36,
     "metadata": {},
     "output_type": "execute_result"
    }
   ],
   "source": [
    "a = [1, 2]\n",
    "b = [3, 4]\n",
    "dot = lambda a,b : sum([x*y for x, y in zip(a, b)])\n",
    "dot(a,b)"
   ]
  }
 ],
 "metadata": {
  "kernelspec": {
   "display_name": "Python 3",
   "language": "python",
   "name": "python3"
  },
  "language_info": {
   "codemirror_mode": {
    "name": "ipython",
    "version": 3
   },
   "file_extension": ".py",
   "mimetype": "text/x-python",
   "name": "python",
   "nbconvert_exporter": "python",
   "pygments_lexer": "ipython3",
   "version": "3.8.8"
  }
 },
 "nbformat": 4,
 "nbformat_minor": 5
}
