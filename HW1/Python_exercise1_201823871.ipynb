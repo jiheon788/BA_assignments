{
 "cells": [
  {
   "cell_type": "markdown",
   "id": "b094e188-6130-415c-9fdd-0257f07a3482",
   "metadata": {},
   "source": [
    "# 파이썬 스타일 코드1 - 연습해보기\n",
    "# 일반문제\n",
    "**201823871 박지헌**"
   ]
  },
  {
   "cell_type": "markdown",
   "id": "658d65f4-5884-4aaa-aa07-f998bd784e66",
   "metadata": {},
   "source": [
    "### 1. Css Selector 수정"
   ]
  },
  {
   "cell_type": "code",
   "execution_count": 2,
   "id": "f9b97b83-3f99-4538-b346-347b009abfae",
   "metadata": {},
   "outputs": [
    {
     "name": "stdout",
     "output_type": "stream",
     "text": [
      "#today_main_news > div.hdline_news > ul > li\n"
     ]
    }
   ],
   "source": [
    "obj = \"#today_main_news > div.hdline_news > ul > li:nth-child(1)\"\n",
    "\n",
    "def css_delete_nthchild(obj):\n",
    "    selector = obj\n",
    "    selector_list = selector.split('>')\n",
    "    selector_list[-1] = selector_list[-1].split(':')[0] #분리루 뒷부분 제거\n",
    "\n",
    "    output = '>'.join(selector_list)\n",
    "    return output\n",
    "    \n",
    "print(css_delete_nthchild(obj))"
   ]
  },
  {
   "cell_type": "markdown",
   "id": "17dfba20-6abe-493c-beaf-1ddde26a0d19",
   "metadata": {},
   "source": [
    "### 2. list comprehension으로 만드는 구구단"
   ]
  },
  {
   "cell_type": "code",
   "execution_count": 3,
   "id": "01ea8cba-fcb4-4096-9032-de11bff0bd6b",
   "metadata": {},
   "outputs": [
    {
     "name": "stdout",
     "output_type": "stream",
     "text": [
      "7 * 1 = 7\n",
      "7 * 2 = 14\n",
      "7 * 3 = 21\n",
      "7 * 4 = 28\n",
      "7 * 5 = 35\n",
      "7 * 6 = 42\n",
      "7 * 7 = 49\n",
      "7 * 8 = 56\n",
      "7 * 9 = 63\n"
     ]
    }
   ],
   "source": [
    "def gugu_com(x):\n",
    "    [print(f'{x} * {i} = {x*i}') for i in range(1,10)]\n",
    "    \n",
    "gugu_com(7)"
   ]
  },
  {
   "cell_type": "markdown",
   "id": "94bb3f38-7030-403f-8051-fda266c28e5b",
   "metadata": {},
   "source": [
    "### 3. 두 주사위의 곱"
   ]
  },
  {
   "cell_type": "code",
   "execution_count": 11,
   "id": "e3531bfb-15b1-404a-840a-57246cf336c3",
   "metadata": {},
   "outputs": [
    {
     "data": {
      "text/plain": [
       "[[1, 2, 3, 4, 5, 6],\n",
       " [2, 4, 6, 8, 10, 12],\n",
       " [3, 6, 9, 12, 15, 18],\n",
       " [4, 8, 12, 16, 20, 24],\n",
       " [5, 10, 15, 20, 25, 30],\n",
       " [6, 12, 18, 24, 30, 36]]"
      ]
     },
     "execution_count": 11,
     "metadata": {},
     "output_type": "execute_result"
    }
   ],
   "source": [
    "die = [i for i in range(1,7)]\n",
    "\n",
    "[[j*i for i in die] for j in die]"
   ]
  },
  {
   "cell_type": "markdown",
   "id": "d3961750-9e54-4dc2-a19c-014b77d438d2",
   "metadata": {},
   "source": [
    "### 4. 두 주사위의 합"
   ]
  },
  {
   "cell_type": "code",
   "execution_count": 15,
   "id": "493b9afa-eeed-4beb-83a9-348eede167f7",
   "metadata": {},
   "outputs": [
    {
     "name": "stdout",
     "output_type": "stream",
     "text": [
      "8\n",
      "8\n"
     ]
    }
   ],
   "source": [
    "die = [i for i in range(1,7)]\n",
    "\n",
    "dice_sum = [[j+i for i in die] for j in die]\n",
    "\n",
    "print(dice_sum[1][5])\n",
    "print(dice_sum[5][1])"
   ]
  },
  {
   "cell_type": "markdown",
   "id": "ec844b39-99a2-4f4a-858c-a5642088b7a6",
   "metadata": {},
   "source": [
    "***"
   ]
  },
  {
   "cell_type": "markdown",
   "id": "e425e08f-7de1-4496-93f2-290ac0938369",
   "metadata": {},
   "source": [
    "# 도전문제\n",
    "## 표절 검사 프로그램\n",
    "### 문제1"
   ]
  },
  {
   "cell_type": "code",
   "execution_count": 16,
   "id": "ecd57e9a-aa1a-479d-abbb-87ae682cb8c6",
   "metadata": {},
   "outputs": [],
   "source": [
    "from collections import defaultdict, Counter"
   ]
  },
  {
   "cell_type": "code",
   "execution_count": 17,
   "id": "c61d3c68-4a81-4077-bad7-9cb6b7dd71d4",
   "metadata": {},
   "outputs": [],
   "source": [
    "text = \"\"\"Python is a very simple programming language so even if you are new to programming, you can learn python without facing any issues.\"\"\"\n",
    "\n",
    "text2 = \"\"\"C is a very difficult programming language so even if you are good at programming, you can learn c with facing any issues.\"\"\"\n",
    "\n",
    "text3 = \"\"\"R Programming is good at statistical analysis. you can learn easily\"\"\""
   ]
  },
  {
   "cell_type": "code",
   "execution_count": 18,
   "id": "06f5eec1-6def-47cf-86c7-d154860b6de8",
   "metadata": {},
   "outputs": [
    {
     "data": {
      "text/plain": [
       "defaultdict(<function __main__.word_counter.<locals>.<lambda>()>,\n",
       "            {'python': 2,\n",
       "             'is': 1,\n",
       "             'a': 1,\n",
       "             'very': 1,\n",
       "             'simple': 1,\n",
       "             'programming': 1,\n",
       "             'language': 1,\n",
       "             'so': 1,\n",
       "             'even': 1,\n",
       "             'if': 1,\n",
       "             'you': 2,\n",
       "             'are': 1,\n",
       "             'new': 1,\n",
       "             'to': 1,\n",
       "             'programming,': 1,\n",
       "             'can': 1,\n",
       "             'learn': 1,\n",
       "             'without': 1,\n",
       "             'facing': 1,\n",
       "             'any': 1,\n",
       "             'issues.': 1})"
      ]
     },
     "execution_count": 18,
     "metadata": {},
     "output_type": "execute_result"
    }
   ],
   "source": [
    "# 단어별 빈도를 측정하여 반환하는 함수\n",
    "def word_counter(text):\n",
    "    word_count = defaultdict(lambda: 0)\n",
    "    for word in text.lower().split():\n",
    "        word_count[word] += 1\n",
    "        \n",
    "    return word_count\n",
    "\n",
    "word_counter(text)"
   ]
  },
  {
   "cell_type": "markdown",
   "id": "1b5f3ae8-76bf-42ff-9602-7f225bd8deed",
   "metadata": {},
   "source": [
    "### 문제2"
   ]
  },
  {
   "cell_type": "code",
   "execution_count": 19,
   "id": "dcd7b9e5-a988-4514-860e-26defa1e6b8b",
   "metadata": {},
   "outputs": [],
   "source": [
    "# 유사도를 구해주는 함수\n",
    "def text_similarity(text_count_1, text_count_2):\n",
    "    text1_count = Counter(text_count_1)\n",
    "    text2_count = Counter(text_count_2)\n",
    "    \n",
    "    word_total = sum(text1_count.values())\n",
    "    word_diff = sum((text1_count - text2_count).values())\n",
    "    \n",
    "    return (1 - word_diff / word_total) * 100"
   ]
  },
  {
   "cell_type": "code",
   "execution_count": 20,
   "id": "ab615386-03ac-4462-829b-4ffa0b0e57fa",
   "metadata": {},
   "outputs": [
    {
     "data": {
      "text/plain": [
       "73.91304347826086"
      ]
     },
     "execution_count": 20,
     "metadata": {},
     "output_type": "execute_result"
    }
   ],
   "source": [
    "text_similarity(word_counter(text), word_counter(text2))"
   ]
  },
  {
   "cell_type": "code",
   "execution_count": 21,
   "id": "bedc8eef-ecdd-4762-9bce-01210eb6ed83",
   "metadata": {},
   "outputs": [
    {
     "data": {
      "text/plain": [
       "21.739130434782606"
      ]
     },
     "execution_count": 21,
     "metadata": {},
     "output_type": "execute_result"
    }
   ],
   "source": [
    "text_similarity(word_counter(text), word_counter(text3))"
   ]
  }
 ],
 "metadata": {
  "kernelspec": {
   "display_name": "Python 3",
   "language": "python",
   "name": "python3"
  },
  "language_info": {
   "codemirror_mode": {
    "name": "ipython",
    "version": 3
   },
   "file_extension": ".py",
   "mimetype": "text/x-python",
   "name": "python",
   "nbconvert_exporter": "python",
   "pygments_lexer": "ipython3",
   "version": "3.8.8"
  }
 },
 "nbformat": 4,
 "nbformat_minor": 5
}
