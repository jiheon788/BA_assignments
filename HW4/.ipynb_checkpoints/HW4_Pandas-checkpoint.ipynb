{
 "cells": [
  {
   "cell_type": "markdown",
   "id": "a7a316f1-5dcd-416d-84e7-e000bebea642",
   "metadata": {},
   "source": [
    "# Pandas\n",
    "## HW4_201823871_박지헌"
   ]
  },
  {
   "cell_type": "code",
   "execution_count": 1,
   "id": "f7c667de-0349-405a-ac4a-52c8975553bc",
   "metadata": {},
   "outputs": [],
   "source": [
    "import pandas as pd"
   ]
  },
  {
   "cell_type": "code",
   "execution_count": 3,
   "id": "f73afb6c-fa75-40a5-aa4f-f800dd49844f",
   "metadata": {},
   "outputs": [
    {
     "name": "stdout",
     "output_type": "stream",
     "text": [
      "0    1\n",
      "1    3\n",
      "2    5\n",
      "3    7\n",
      "4    9\n",
      "dtype: int64\n",
      "5\n"
     ]
    }
   ],
   "source": [
    "s = pd.Series([1, 3, 5, 7, 9])\n",
    "print(s)\n",
    "print(s[2]) #indexing"
   ]
  },
  {
   "cell_type": "code",
   "execution_count": 5,
   "id": "a1488ea9-5d7d-4f80-8c4a-3a1e86eb4bbb",
   "metadata": {},
   "outputs": [
    {
     "name": "stdout",
     "output_type": "stream",
     "text": [
      "a    1\n",
      "b    3\n",
      "c    5\n",
      "dtype: int64\n",
      "3\n"
     ]
    }
   ],
   "source": [
    "# dictionary를 이용해 만들기\n",
    "dic = {'a':1, 'b':3, 'c':5}\n",
    "s = pd.Series(dic)\n",
    "print(s)\n",
    "print(s['b']) #indexing"
   ]
  },
  {
   "cell_type": "code",
   "execution_count": 6,
   "id": "b0f2c91e-6ee6-47d7-b5b0-248eab20f7e3",
   "metadata": {},
   "outputs": [
    {
     "name": "stdout",
     "output_type": "stream",
     "text": [
      "[1 3 5]\n",
      "Index(['a', 'b', 'c'], dtype='object')\n"
     ]
    }
   ],
   "source": [
    "print(s.values)\n",
    "print(s.index)"
   ]
  },
  {
   "cell_type": "code",
   "execution_count": 4,
   "id": "3a74fba2-c9f2-43e2-a04c-ec0a9b791912",
   "metadata": {},
   "outputs": [
    {
     "name": "stdout",
     "output_type": "stream",
     "text": [
      "LGT    1\n",
      "DOO    3\n",
      "HWE    5\n",
      "LOT    7\n",
      "SKW    9\n",
      "dtype: int64\n",
      "7\n",
      "LGT    1\n",
      "DOO    3\n",
      "HWE    5\n",
      "LOT    7\n",
      "dtype: int64\n"
     ]
    }
   ],
   "source": [
    "s = pd.Series([1,3,5,7,9], index=['LGT','DOO','HWE','LOT','SKW'])\n",
    "print(s)\n",
    "print(s['LOT'])\n",
    "print(s[:'LOT']) # 슬라이싱에서 어디까지 나오는지 주목"
   ]
  },
  {
   "cell_type": "code",
   "execution_count": 5,
   "id": "5dac7d5d-f481-4c1c-a852-4c427f7444c3",
   "metadata": {},
   "outputs": [
    {
     "data": {
      "text/html": [
       "<div>\n",
       "<style scoped>\n",
       "    .dataframe tbody tr th:only-of-type {\n",
       "        vertical-align: middle;\n",
       "    }\n",
       "\n",
       "    .dataframe tbody tr th {\n",
       "        vertical-align: top;\n",
       "    }\n",
       "\n",
       "    .dataframe thead th {\n",
       "        text-align: right;\n",
       "    }\n",
       "</style>\n",
       "<table border=\"1\" class=\"dataframe\">\n",
       "  <thead>\n",
       "    <tr style=\"text-align: right;\">\n",
       "      <th></th>\n",
       "      <th>학번</th>\n",
       "      <th>이름</th>\n",
       "      <th>Quiz</th>\n",
       "      <th>중간고사</th>\n",
       "    </tr>\n",
       "  </thead>\n",
       "  <tbody>\n",
       "    <tr>\n",
       "      <th>0</th>\n",
       "      <td>201524213</td>\n",
       "      <td>오지환</td>\n",
       "      <td>15</td>\n",
       "      <td>20</td>\n",
       "    </tr>\n",
       "    <tr>\n",
       "      <th>1</th>\n",
       "      <td>201621223</td>\n",
       "      <td>박용택</td>\n",
       "      <td>20</td>\n",
       "      <td>20</td>\n",
       "    </tr>\n",
       "    <tr>\n",
       "      <th>2</th>\n",
       "      <td>201621233</td>\n",
       "      <td>정성훈</td>\n",
       "      <td>10</td>\n",
       "      <td>15</td>\n",
       "    </tr>\n",
       "  </tbody>\n",
       "</table>\n",
       "</div>"
      ],
      "text/plain": [
       "          학번   이름  Quiz  중간고사\n",
       "0  201524213  오지환    15    20\n",
       "1  201621223  박용택    20    20\n",
       "2  201621233  정성훈    10    15"
      ]
     },
     "execution_count": 5,
     "metadata": {},
     "output_type": "execute_result"
    }
   ],
   "source": [
    "score={'학번':[201524213,201621223,201621233],\n",
    "       '이름':['오지환','박용택','정성훈'],\n",
    "       'Quiz':[15,20,10],\n",
    "       '중간고사':[20,20,15]}\n",
    "\n",
    "score_df= pd.DataFrame(score)\n",
    "score_df"
   ]
  },
  {
   "cell_type": "code",
   "execution_count": 6,
   "id": "d02700e9-d614-425e-acd8-40cf53797e5f",
   "metadata": {},
   "outputs": [
    {
     "name": "stdout",
     "output_type": "stream",
     "text": [
      "<class 'pandas.core.series.Series'>\n"
     ]
    },
    {
     "data": {
      "text/plain": [
       "0    201524213\n",
       "1    201621223\n",
       "2    201621233\n",
       "Name: 학번, dtype: int64"
      ]
     },
     "execution_count": 6,
     "metadata": {},
     "output_type": "execute_result"
    }
   ],
   "source": [
    "print(type(score_df['학번']))\n",
    "score_df['학번']"
   ]
  },
  {
   "cell_type": "markdown",
   "id": "0fc43a18-d28c-48a4-874e-ecb8786208e9",
   "metadata": {},
   "source": [
    "# 데이터 프레임 다루기"
   ]
  },
  {
   "cell_type": "code",
   "execution_count": 7,
   "id": "7ede8c6e-ace2-4b0c-9cd8-cb3ec00ce981",
   "metadata": {},
   "outputs": [
    {
     "data": {
      "text/html": [
       "<div>\n",
       "<style scoped>\n",
       "    .dataframe tbody tr th:only-of-type {\n",
       "        vertical-align: middle;\n",
       "    }\n",
       "\n",
       "    .dataframe tbody tr th {\n",
       "        vertical-align: top;\n",
       "    }\n",
       "\n",
       "    .dataframe thead th {\n",
       "        text-align: right;\n",
       "    }\n",
       "</style>\n",
       "<table border=\"1\" class=\"dataframe\">\n",
       "  <thead>\n",
       "    <tr style=\"text-align: right;\">\n",
       "      <th></th>\n",
       "      <th>Name</th>\n",
       "      <th>Age</th>\n",
       "      <th>Score</th>\n",
       "    </tr>\n",
       "  </thead>\n",
       "  <tbody>\n",
       "    <tr>\n",
       "      <th>0</th>\n",
       "      <td>Alisa</td>\n",
       "      <td>26</td>\n",
       "      <td>89</td>\n",
       "    </tr>\n",
       "    <tr>\n",
       "      <th>1</th>\n",
       "      <td>Bobby</td>\n",
       "      <td>27</td>\n",
       "      <td>87</td>\n",
       "    </tr>\n",
       "    <tr>\n",
       "      <th>2</th>\n",
       "      <td>Cathrine</td>\n",
       "      <td>25</td>\n",
       "      <td>67</td>\n",
       "    </tr>\n",
       "    <tr>\n",
       "      <th>3</th>\n",
       "      <td>Madonna</td>\n",
       "      <td>24</td>\n",
       "      <td>55</td>\n",
       "    </tr>\n",
       "    <tr>\n",
       "      <th>4</th>\n",
       "      <td>Rocky</td>\n",
       "      <td>31</td>\n",
       "      <td>47</td>\n",
       "    </tr>\n",
       "    <tr>\n",
       "      <th>5</th>\n",
       "      <td>Sebastian</td>\n",
       "      <td>27</td>\n",
       "      <td>72</td>\n",
       "    </tr>\n",
       "    <tr>\n",
       "      <th>6</th>\n",
       "      <td>Jaqluine</td>\n",
       "      <td>25</td>\n",
       "      <td>76</td>\n",
       "    </tr>\n",
       "    <tr>\n",
       "      <th>7</th>\n",
       "      <td>Rahul</td>\n",
       "      <td>33</td>\n",
       "      <td>79</td>\n",
       "    </tr>\n",
       "    <tr>\n",
       "      <th>8</th>\n",
       "      <td>David</td>\n",
       "      <td>42</td>\n",
       "      <td>44</td>\n",
       "    </tr>\n",
       "    <tr>\n",
       "      <th>9</th>\n",
       "      <td>Andrew</td>\n",
       "      <td>32</td>\n",
       "      <td>92</td>\n",
       "    </tr>\n",
       "    <tr>\n",
       "      <th>10</th>\n",
       "      <td>Ajay</td>\n",
       "      <td>51</td>\n",
       "      <td>99</td>\n",
       "    </tr>\n",
       "    <tr>\n",
       "      <th>11</th>\n",
       "      <td>Teresa</td>\n",
       "      <td>47</td>\n",
       "      <td>69</td>\n",
       "    </tr>\n",
       "  </tbody>\n",
       "</table>\n",
       "</div>"
      ],
      "text/plain": [
       "         Name  Age  Score\n",
       "0       Alisa   26     89\n",
       "1       Bobby   27     87\n",
       "2    Cathrine   25     67\n",
       "3     Madonna   24     55\n",
       "4       Rocky   31     47\n",
       "5   Sebastian   27     72\n",
       "6    Jaqluine   25     76\n",
       "7       Rahul   33     79\n",
       "8       David   42     44\n",
       "9      Andrew   32     92\n",
       "10       Ajay   51     99\n",
       "11     Teresa   47     69"
      ]
     },
     "execution_count": 7,
     "metadata": {},
     "output_type": "execute_result"
    }
   ],
   "source": [
    "d = {\n",
    "    'Name':['Alisa','Bobby','Cathrine','Madonna','Rocky','Sebastian','Jaqluine',\n",
    "   'Rahul','David','Andrew','Ajay','Teresa'],\n",
    "   'Age':[26,27,25,24,31,27,25,33,42,32,51,47],\n",
    "   'Score':[89,87,67,55,47,72,76,79,44,92,99,69]}\n",
    " \n",
    "df = pd.DataFrame(d)\n",
    "df"
   ]
  },
  {
   "cell_type": "code",
   "execution_count": 8,
   "id": "35294246-976e-457f-a2e8-da562097e7fc",
   "metadata": {},
   "outputs": [
    {
     "data": {
      "text/plain": [
       "0     26\n",
       "1     27\n",
       "2     25\n",
       "3     24\n",
       "4     31\n",
       "5     27\n",
       "6     25\n",
       "7     33\n",
       "8     42\n",
       "9     32\n",
       "10    51\n",
       "11    47\n",
       "Name: Age, dtype: int64"
      ]
     },
     "execution_count": 8,
     "metadata": {},
     "output_type": "execute_result"
    }
   ],
   "source": [
    "df['Age']"
   ]
  },
  {
   "cell_type": "code",
   "execution_count": 9,
   "id": "dd41207a-ada8-41f5-89da-b351622e624e",
   "metadata": {},
   "outputs": [
    {
     "data": {
      "text/html": [
       "<div>\n",
       "<style scoped>\n",
       "    .dataframe tbody tr th:only-of-type {\n",
       "        vertical-align: middle;\n",
       "    }\n",
       "\n",
       "    .dataframe tbody tr th {\n",
       "        vertical-align: top;\n",
       "    }\n",
       "\n",
       "    .dataframe thead th {\n",
       "        text-align: right;\n",
       "    }\n",
       "</style>\n",
       "<table border=\"1\" class=\"dataframe\">\n",
       "  <thead>\n",
       "    <tr style=\"text-align: right;\">\n",
       "      <th></th>\n",
       "      <th>Name</th>\n",
       "      <th>Age</th>\n",
       "    </tr>\n",
       "  </thead>\n",
       "  <tbody>\n",
       "    <tr>\n",
       "      <th>0</th>\n",
       "      <td>Alisa</td>\n",
       "      <td>26</td>\n",
       "    </tr>\n",
       "    <tr>\n",
       "      <th>1</th>\n",
       "      <td>Bobby</td>\n",
       "      <td>27</td>\n",
       "    </tr>\n",
       "    <tr>\n",
       "      <th>2</th>\n",
       "      <td>Cathrine</td>\n",
       "      <td>25</td>\n",
       "    </tr>\n",
       "    <tr>\n",
       "      <th>3</th>\n",
       "      <td>Madonna</td>\n",
       "      <td>24</td>\n",
       "    </tr>\n",
       "    <tr>\n",
       "      <th>4</th>\n",
       "      <td>Rocky</td>\n",
       "      <td>31</td>\n",
       "    </tr>\n",
       "    <tr>\n",
       "      <th>5</th>\n",
       "      <td>Sebastian</td>\n",
       "      <td>27</td>\n",
       "    </tr>\n",
       "    <tr>\n",
       "      <th>6</th>\n",
       "      <td>Jaqluine</td>\n",
       "      <td>25</td>\n",
       "    </tr>\n",
       "    <tr>\n",
       "      <th>7</th>\n",
       "      <td>Rahul</td>\n",
       "      <td>33</td>\n",
       "    </tr>\n",
       "    <tr>\n",
       "      <th>8</th>\n",
       "      <td>David</td>\n",
       "      <td>42</td>\n",
       "    </tr>\n",
       "    <tr>\n",
       "      <th>9</th>\n",
       "      <td>Andrew</td>\n",
       "      <td>32</td>\n",
       "    </tr>\n",
       "    <tr>\n",
       "      <th>10</th>\n",
       "      <td>Ajay</td>\n",
       "      <td>51</td>\n",
       "    </tr>\n",
       "    <tr>\n",
       "      <th>11</th>\n",
       "      <td>Teresa</td>\n",
       "      <td>47</td>\n",
       "    </tr>\n",
       "  </tbody>\n",
       "</table>\n",
       "</div>"
      ],
      "text/plain": [
       "         Name  Age\n",
       "0       Alisa   26\n",
       "1       Bobby   27\n",
       "2    Cathrine   25\n",
       "3     Madonna   24\n",
       "4       Rocky   31\n",
       "5   Sebastian   27\n",
       "6    Jaqluine   25\n",
       "7       Rahul   33\n",
       "8       David   42\n",
       "9      Andrew   32\n",
       "10       Ajay   51\n",
       "11     Teresa   47"
      ]
     },
     "execution_count": 9,
     "metadata": {},
     "output_type": "execute_result"
    }
   ],
   "source": [
    "df[['Name', 'Age']]"
   ]
  },
  {
   "cell_type": "markdown",
   "id": "76f64c99-fd93-401d-a628-991d68c6c5eb",
   "metadata": {},
   "source": [
    "인덱싱을 할 [] 안에 하나의 값을 쓰느냐, 아니면 리스트 형태를 쓰느냐에 따라 반환되는 값의 타입이 달라진다. 하나의 값을 쓰는 경우는 시리즈를, 리스트 형태를 쓰면 데이터프레임을 반환한다."
   ]
  },
  {
   "cell_type": "code",
   "execution_count": 10,
   "id": "8b18e636-5c56-4814-996e-7bb0faf4555a",
   "metadata": {},
   "outputs": [
    {
     "data": {
      "text/plain": [
       "pandas.core.series.Series"
      ]
     },
     "execution_count": 10,
     "metadata": {},
     "output_type": "execute_result"
    }
   ],
   "source": [
    "type(df['Name'])"
   ]
  },
  {
   "cell_type": "code",
   "execution_count": 11,
   "id": "56d06763-26a2-46ea-8800-51d55981edb4",
   "metadata": {},
   "outputs": [
    {
     "data": {
      "text/plain": [
       "pandas.core.frame.DataFrame"
      ]
     },
     "execution_count": 11,
     "metadata": {},
     "output_type": "execute_result"
    }
   ],
   "source": [
    "type(df[['Name']])"
   ]
  },
  {
   "cell_type": "code",
   "execution_count": 12,
   "id": "6778ef6f-c03f-4b4e-b8cd-7f9c3ca300a7",
   "metadata": {},
   "outputs": [
    {
     "data": {
      "text/html": [
       "<div>\n",
       "<style scoped>\n",
       "    .dataframe tbody tr th:only-of-type {\n",
       "        vertical-align: middle;\n",
       "    }\n",
       "\n",
       "    .dataframe tbody tr th {\n",
       "        vertical-align: top;\n",
       "    }\n",
       "\n",
       "    .dataframe thead th {\n",
       "        text-align: right;\n",
       "    }\n",
       "</style>\n",
       "<table border=\"1\" class=\"dataframe\">\n",
       "  <thead>\n",
       "    <tr style=\"text-align: right;\">\n",
       "      <th></th>\n",
       "      <th>Name</th>\n",
       "      <th>Age</th>\n",
       "      <th>Score</th>\n",
       "    </tr>\n",
       "  </thead>\n",
       "  <tbody>\n",
       "    <tr>\n",
       "      <th>0</th>\n",
       "      <td>Alisa</td>\n",
       "      <td>26</td>\n",
       "      <td>89</td>\n",
       "    </tr>\n",
       "    <tr>\n",
       "      <th>1</th>\n",
       "      <td>Bobby</td>\n",
       "      <td>27</td>\n",
       "      <td>87</td>\n",
       "    </tr>\n",
       "    <tr>\n",
       "      <th>2</th>\n",
       "      <td>Cathrine</td>\n",
       "      <td>25</td>\n",
       "      <td>67</td>\n",
       "    </tr>\n",
       "  </tbody>\n",
       "</table>\n",
       "</div>"
      ],
      "text/plain": [
       "       Name  Age  Score\n",
       "0     Alisa   26     89\n",
       "1     Bobby   27     87\n",
       "2  Cathrine   25     67"
      ]
     },
     "execution_count": 12,
     "metadata": {},
     "output_type": "execute_result"
    }
   ],
   "source": [
    "df[0:3]  #df[2]는 에러 발생"
   ]
  },
  {
   "cell_type": "markdown",
   "id": "c45c8486-1e12-4502-bb66-aa40ea7f31f0",
   "metadata": {},
   "source": [
    "# loc, iloc을 이용한 인덱싱과 슬라이싱\n",
    "loc과 iloc 모두 행(row)이나 열(column)을 인덱싱하기 위한 함수이다.\n",
    "iloc은 numpy의 인덱싱과 유사하게 작동한다. 저장된 순서에 따라 0부터 정수로 인덱싱, 슬라이싱이 가능하다.\n",
    "iloc[4]와 같이 값을 하나만 주는 경우에는 행을 대상으로 작동하고, iloc[:, 3]와 같이 사용하면 열에 대해 인덱싱이 가능하다.\n",
    "loc은 데이터 프레임에 정의된 index에 대해 인덱싱이 작동한다.\n",
    "슬라이싱의 경우 loc은 index 값의 크기와 무관하게 순서에 따라 슬라이싱이 작동한다."
   ]
  },
  {
   "cell_type": "code",
   "execution_count": 14,
   "id": "7bb9d667-3d85-4a6b-b425-d59dd0460ea5",
   "metadata": {},
   "outputs": [
    {
     "data": {
      "text/html": [
       "<div>\n",
       "<style scoped>\n",
       "    .dataframe tbody tr th:only-of-type {\n",
       "        vertical-align: middle;\n",
       "    }\n",
       "\n",
       "    .dataframe tbody tr th {\n",
       "        vertical-align: top;\n",
       "    }\n",
       "\n",
       "    .dataframe thead th {\n",
       "        text-align: right;\n",
       "    }\n",
       "</style>\n",
       "<table border=\"1\" class=\"dataframe\">\n",
       "  <thead>\n",
       "    <tr style=\"text-align: right;\">\n",
       "      <th></th>\n",
       "      <th>Name</th>\n",
       "      <th>Age</th>\n",
       "      <th>Score</th>\n",
       "    </tr>\n",
       "  </thead>\n",
       "  <tbody>\n",
       "    <tr>\n",
       "      <th>1</th>\n",
       "      <td>Bobby</td>\n",
       "      <td>27</td>\n",
       "      <td>87</td>\n",
       "    </tr>\n",
       "    <tr>\n",
       "      <th>4</th>\n",
       "      <td>Rocky</td>\n",
       "      <td>31</td>\n",
       "      <td>47</td>\n",
       "    </tr>\n",
       "    <tr>\n",
       "      <th>6</th>\n",
       "      <td>Jaqluine</td>\n",
       "      <td>25</td>\n",
       "      <td>76</td>\n",
       "    </tr>\n",
       "    <tr>\n",
       "      <th>2</th>\n",
       "      <td>Cathrine</td>\n",
       "      <td>25</td>\n",
       "      <td>67</td>\n",
       "    </tr>\n",
       "    <tr>\n",
       "      <th>3</th>\n",
       "      <td>Madonna</td>\n",
       "      <td>24</td>\n",
       "      <td>55</td>\n",
       "    </tr>\n",
       "    <tr>\n",
       "      <th>5</th>\n",
       "      <td>Sebastian</td>\n",
       "      <td>27</td>\n",
       "      <td>72</td>\n",
       "    </tr>\n",
       "    <tr>\n",
       "      <th>9</th>\n",
       "      <td>Andrew</td>\n",
       "      <td>32</td>\n",
       "      <td>92</td>\n",
       "    </tr>\n",
       "    <tr>\n",
       "      <th>8</th>\n",
       "      <td>David</td>\n",
       "      <td>42</td>\n",
       "      <td>44</td>\n",
       "    </tr>\n",
       "    <tr>\n",
       "      <th>0</th>\n",
       "      <td>Alisa</td>\n",
       "      <td>26</td>\n",
       "      <td>89</td>\n",
       "    </tr>\n",
       "    <tr>\n",
       "      <th>7</th>\n",
       "      <td>Rahul</td>\n",
       "      <td>33</td>\n",
       "      <td>79</td>\n",
       "    </tr>\n",
       "    <tr>\n",
       "      <th>11</th>\n",
       "      <td>Teresa</td>\n",
       "      <td>47</td>\n",
       "      <td>69</td>\n",
       "    </tr>\n",
       "    <tr>\n",
       "      <th>10</th>\n",
       "      <td>Ajay</td>\n",
       "      <td>51</td>\n",
       "      <td>99</td>\n",
       "    </tr>\n",
       "  </tbody>\n",
       "</table>\n",
       "</div>"
      ],
      "text/plain": [
       "         Name  Age  Score\n",
       "1       Bobby   27     87\n",
       "4       Rocky   31     47\n",
       "6    Jaqluine   25     76\n",
       "2    Cathrine   25     67\n",
       "3     Madonna   24     55\n",
       "5   Sebastian   27     72\n",
       "9      Andrew   32     92\n",
       "8       David   42     44\n",
       "0       Alisa   26     89\n",
       "7       Rahul   33     79\n",
       "11     Teresa   47     69\n",
       "10       Ajay   51     99"
      ]
     },
     "execution_count": 14,
     "metadata": {},
     "output_type": "execute_result"
    }
   ],
   "source": [
    "df=df.reindex([1,4,6,2,3,5,9,8,0,7,11,10]) # 일부러 순차가 아닌 인덱스를 부여\n",
    "df"
   ]
  },
  {
   "cell_type": "markdown",
   "id": "3a8ff860-71f9-418d-94c9-6c537b59dac8",
   "metadata": {},
   "source": [
    "iloc과 loc의 중요한 차이점 하나는, loc은 인덱싱하는 값을 포함하여 결과를 반환한다는 것이다."
   ]
  },
  {
   "cell_type": "code",
   "execution_count": 19,
   "id": "d25b11a1-7697-4b3a-a265-4509f0838242",
   "metadata": {},
   "outputs": [
    {
     "data": {
      "text/html": [
       "<div>\n",
       "<style scoped>\n",
       "    .dataframe tbody tr th:only-of-type {\n",
       "        vertical-align: middle;\n",
       "    }\n",
       "\n",
       "    .dataframe tbody tr th {\n",
       "        vertical-align: top;\n",
       "    }\n",
       "\n",
       "    .dataframe thead th {\n",
       "        text-align: right;\n",
       "    }\n",
       "</style>\n",
       "<table border=\"1\" class=\"dataframe\">\n",
       "  <thead>\n",
       "    <tr style=\"text-align: right;\">\n",
       "      <th></th>\n",
       "      <th>Name</th>\n",
       "      <th>Age</th>\n",
       "      <th>Score</th>\n",
       "    </tr>\n",
       "  </thead>\n",
       "  <tbody>\n",
       "    <tr>\n",
       "      <th>1</th>\n",
       "      <td>Bobby</td>\n",
       "      <td>27</td>\n",
       "      <td>87</td>\n",
       "    </tr>\n",
       "    <tr>\n",
       "      <th>4</th>\n",
       "      <td>Rocky</td>\n",
       "      <td>31</td>\n",
       "      <td>47</td>\n",
       "    </tr>\n",
       "    <tr>\n",
       "      <th>6</th>\n",
       "      <td>Jaqluine</td>\n",
       "      <td>25</td>\n",
       "      <td>76</td>\n",
       "    </tr>\n",
       "  </tbody>\n",
       "</table>\n",
       "</div>"
      ],
      "text/plain": [
       "       Name  Age  Score\n",
       "1     Bobby   27     87\n",
       "4     Rocky   31     47\n",
       "6  Jaqluine   25     76"
      ]
     },
     "execution_count": 19,
     "metadata": {},
     "output_type": "execute_result"
    }
   ],
   "source": [
    "df.loc[:6] #인덱스값"
   ]
  },
  {
   "cell_type": "code",
   "execution_count": 20,
   "id": "2aa190f8-6e17-4a27-8001-98443985ad84",
   "metadata": {},
   "outputs": [
    {
     "data": {
      "text/html": [
       "<div>\n",
       "<style scoped>\n",
       "    .dataframe tbody tr th:only-of-type {\n",
       "        vertical-align: middle;\n",
       "    }\n",
       "\n",
       "    .dataframe tbody tr th {\n",
       "        vertical-align: top;\n",
       "    }\n",
       "\n",
       "    .dataframe thead th {\n",
       "        text-align: right;\n",
       "    }\n",
       "</style>\n",
       "<table border=\"1\" class=\"dataframe\">\n",
       "  <thead>\n",
       "    <tr style=\"text-align: right;\">\n",
       "      <th></th>\n",
       "      <th>Name</th>\n",
       "      <th>Age</th>\n",
       "      <th>Score</th>\n",
       "    </tr>\n",
       "  </thead>\n",
       "  <tbody>\n",
       "    <tr>\n",
       "      <th>1</th>\n",
       "      <td>Bobby</td>\n",
       "      <td>27</td>\n",
       "      <td>87</td>\n",
       "    </tr>\n",
       "    <tr>\n",
       "      <th>4</th>\n",
       "      <td>Rocky</td>\n",
       "      <td>31</td>\n",
       "      <td>47</td>\n",
       "    </tr>\n",
       "    <tr>\n",
       "      <th>6</th>\n",
       "      <td>Jaqluine</td>\n",
       "      <td>25</td>\n",
       "      <td>76</td>\n",
       "    </tr>\n",
       "    <tr>\n",
       "      <th>2</th>\n",
       "      <td>Cathrine</td>\n",
       "      <td>25</td>\n",
       "      <td>67</td>\n",
       "    </tr>\n",
       "    <tr>\n",
       "      <th>3</th>\n",
       "      <td>Madonna</td>\n",
       "      <td>24</td>\n",
       "      <td>55</td>\n",
       "    </tr>\n",
       "    <tr>\n",
       "      <th>5</th>\n",
       "      <td>Sebastian</td>\n",
       "      <td>27</td>\n",
       "      <td>72</td>\n",
       "    </tr>\n",
       "  </tbody>\n",
       "</table>\n",
       "</div>"
      ],
      "text/plain": [
       "        Name  Age  Score\n",
       "1      Bobby   27     87\n",
       "4      Rocky   31     47\n",
       "6   Jaqluine   25     76\n",
       "2   Cathrine   25     67\n",
       "3    Madonna   24     55\n",
       "5  Sebastian   27     72"
      ]
     },
     "execution_count": 20,
     "metadata": {},
     "output_type": "execute_result"
    }
   ],
   "source": [
    "df.iloc[:6] #갯수"
   ]
  },
  {
   "cell_type": "code",
   "execution_count": 21,
   "id": "01fcb74b-7ab6-45b9-81cd-4f5fb031d6b9",
   "metadata": {},
   "outputs": [
    {
     "data": {
      "text/html": [
       "<div>\n",
       "<style scoped>\n",
       "    .dataframe tbody tr th:only-of-type {\n",
       "        vertical-align: middle;\n",
       "    }\n",
       "\n",
       "    .dataframe tbody tr th {\n",
       "        vertical-align: top;\n",
       "    }\n",
       "\n",
       "    .dataframe thead th {\n",
       "        text-align: right;\n",
       "    }\n",
       "</style>\n",
       "<table border=\"1\" class=\"dataframe\">\n",
       "  <thead>\n",
       "    <tr style=\"text-align: right;\">\n",
       "      <th></th>\n",
       "      <th>Name</th>\n",
       "      <th>Age</th>\n",
       "      <th>Score</th>\n",
       "    </tr>\n",
       "  </thead>\n",
       "  <tbody>\n",
       "    <tr>\n",
       "      <th>0</th>\n",
       "      <td>Alisa</td>\n",
       "      <td>26</td>\n",
       "      <td>89</td>\n",
       "    </tr>\n",
       "    <tr>\n",
       "      <th>1</th>\n",
       "      <td>Bobby</td>\n",
       "      <td>27</td>\n",
       "      <td>87</td>\n",
       "    </tr>\n",
       "    <tr>\n",
       "      <th>2</th>\n",
       "      <td>Cathrine</td>\n",
       "      <td>25</td>\n",
       "      <td>67</td>\n",
       "    </tr>\n",
       "    <tr>\n",
       "      <th>3</th>\n",
       "      <td>Madonna</td>\n",
       "      <td>24</td>\n",
       "      <td>55</td>\n",
       "    </tr>\n",
       "    <tr>\n",
       "      <th>4</th>\n",
       "      <td>Rocky</td>\n",
       "      <td>31</td>\n",
       "      <td>47</td>\n",
       "    </tr>\n",
       "    <tr>\n",
       "      <th>5</th>\n",
       "      <td>Sebastian</td>\n",
       "      <td>27</td>\n",
       "      <td>72</td>\n",
       "    </tr>\n",
       "    <tr>\n",
       "      <th>6</th>\n",
       "      <td>Jaqluine</td>\n",
       "      <td>25</td>\n",
       "      <td>76</td>\n",
       "    </tr>\n",
       "    <tr>\n",
       "      <th>7</th>\n",
       "      <td>Rahul</td>\n",
       "      <td>33</td>\n",
       "      <td>79</td>\n",
       "    </tr>\n",
       "    <tr>\n",
       "      <th>8</th>\n",
       "      <td>David</td>\n",
       "      <td>42</td>\n",
       "      <td>44</td>\n",
       "    </tr>\n",
       "    <tr>\n",
       "      <th>9</th>\n",
       "      <td>Andrew</td>\n",
       "      <td>32</td>\n",
       "      <td>92</td>\n",
       "    </tr>\n",
       "    <tr>\n",
       "      <th>10</th>\n",
       "      <td>Ajay</td>\n",
       "      <td>51</td>\n",
       "      <td>99</td>\n",
       "    </tr>\n",
       "    <tr>\n",
       "      <th>11</th>\n",
       "      <td>Teresa</td>\n",
       "      <td>47</td>\n",
       "      <td>69</td>\n",
       "    </tr>\n",
       "  </tbody>\n",
       "</table>\n",
       "</div>"
      ],
      "text/plain": [
       "         Name  Age  Score\n",
       "0       Alisa   26     89\n",
       "1       Bobby   27     87\n",
       "2    Cathrine   25     67\n",
       "3     Madonna   24     55\n",
       "4       Rocky   31     47\n",
       "5   Sebastian   27     72\n",
       "6    Jaqluine   25     76\n",
       "7       Rahul   33     79\n",
       "8       David   42     44\n",
       "9      Andrew   32     92\n",
       "10       Ajay   51     99\n",
       "11     Teresa   47     69"
      ]
     },
     "execution_count": 21,
     "metadata": {},
     "output_type": "execute_result"
    }
   ],
   "source": [
    "# sort the pandas dataframe by index ascending\n",
    " \n",
    "df1=df.sort_index()\n",
    "df1"
   ]
  },
  {
   "cell_type": "code",
   "execution_count": 22,
   "id": "4c6fc51c-a1a5-419c-aa02-ee993054b7c4",
   "metadata": {},
   "outputs": [
    {
     "data": {
      "text/html": [
       "<div>\n",
       "<style scoped>\n",
       "    .dataframe tbody tr th:only-of-type {\n",
       "        vertical-align: middle;\n",
       "    }\n",
       "\n",
       "    .dataframe tbody tr th {\n",
       "        vertical-align: top;\n",
       "    }\n",
       "\n",
       "    .dataframe thead th {\n",
       "        text-align: right;\n",
       "    }\n",
       "</style>\n",
       "<table border=\"1\" class=\"dataframe\">\n",
       "  <thead>\n",
       "    <tr style=\"text-align: right;\">\n",
       "      <th></th>\n",
       "      <th>Name</th>\n",
       "      <th>Age</th>\n",
       "      <th>Score</th>\n",
       "    </tr>\n",
       "  </thead>\n",
       "  <tbody>\n",
       "    <tr>\n",
       "      <th>0</th>\n",
       "      <td>Alisa</td>\n",
       "      <td>26</td>\n",
       "      <td>89</td>\n",
       "    </tr>\n",
       "    <tr>\n",
       "      <th>1</th>\n",
       "      <td>Bobby</td>\n",
       "      <td>27</td>\n",
       "      <td>87</td>\n",
       "    </tr>\n",
       "    <tr>\n",
       "      <th>2</th>\n",
       "      <td>Cathrine</td>\n",
       "      <td>25</td>\n",
       "      <td>67</td>\n",
       "    </tr>\n",
       "    <tr>\n",
       "      <th>3</th>\n",
       "      <td>Madonna</td>\n",
       "      <td>24</td>\n",
       "      <td>55</td>\n",
       "    </tr>\n",
       "    <tr>\n",
       "      <th>4</th>\n",
       "      <td>Rocky</td>\n",
       "      <td>31</td>\n",
       "      <td>47</td>\n",
       "    </tr>\n",
       "    <tr>\n",
       "      <th>5</th>\n",
       "      <td>Sebastian</td>\n",
       "      <td>27</td>\n",
       "      <td>72</td>\n",
       "    </tr>\n",
       "    <tr>\n",
       "      <th>6</th>\n",
       "      <td>Jaqluine</td>\n",
       "      <td>25</td>\n",
       "      <td>76</td>\n",
       "    </tr>\n",
       "  </tbody>\n",
       "</table>\n",
       "</div>"
      ],
      "text/plain": [
       "        Name  Age  Score\n",
       "0      Alisa   26     89\n",
       "1      Bobby   27     87\n",
       "2   Cathrine   25     67\n",
       "3    Madonna   24     55\n",
       "4      Rocky   31     47\n",
       "5  Sebastian   27     72\n",
       "6   Jaqluine   25     76"
      ]
     },
     "execution_count": 22,
     "metadata": {},
     "output_type": "execute_result"
    }
   ],
   "source": [
    "df1.loc[:6]"
   ]
  },
  {
   "cell_type": "code",
   "execution_count": 23,
   "id": "74da1001-6e55-4431-baa6-b68e70812b4b",
   "metadata": {},
   "outputs": [
    {
     "data": {
      "text/html": [
       "<div>\n",
       "<style scoped>\n",
       "    .dataframe tbody tr th:only-of-type {\n",
       "        vertical-align: middle;\n",
       "    }\n",
       "\n",
       "    .dataframe tbody tr th {\n",
       "        vertical-align: top;\n",
       "    }\n",
       "\n",
       "    .dataframe thead th {\n",
       "        text-align: right;\n",
       "    }\n",
       "</style>\n",
       "<table border=\"1\" class=\"dataframe\">\n",
       "  <thead>\n",
       "    <tr style=\"text-align: right;\">\n",
       "      <th></th>\n",
       "      <th>Name</th>\n",
       "      <th>Age</th>\n",
       "      <th>Score</th>\n",
       "    </tr>\n",
       "  </thead>\n",
       "  <tbody>\n",
       "    <tr>\n",
       "      <th>0</th>\n",
       "      <td>Alisa</td>\n",
       "      <td>26</td>\n",
       "      <td>89</td>\n",
       "    </tr>\n",
       "    <tr>\n",
       "      <th>1</th>\n",
       "      <td>Bobby</td>\n",
       "      <td>27</td>\n",
       "      <td>87</td>\n",
       "    </tr>\n",
       "    <tr>\n",
       "      <th>2</th>\n",
       "      <td>Cathrine</td>\n",
       "      <td>25</td>\n",
       "      <td>67</td>\n",
       "    </tr>\n",
       "    <tr>\n",
       "      <th>3</th>\n",
       "      <td>Madonna</td>\n",
       "      <td>24</td>\n",
       "      <td>55</td>\n",
       "    </tr>\n",
       "    <tr>\n",
       "      <th>4</th>\n",
       "      <td>Rocky</td>\n",
       "      <td>31</td>\n",
       "      <td>47</td>\n",
       "    </tr>\n",
       "    <tr>\n",
       "      <th>5</th>\n",
       "      <td>Sebastian</td>\n",
       "      <td>27</td>\n",
       "      <td>72</td>\n",
       "    </tr>\n",
       "  </tbody>\n",
       "</table>\n",
       "</div>"
      ],
      "text/plain": [
       "        Name  Age  Score\n",
       "0      Alisa   26     89\n",
       "1      Bobby   27     87\n",
       "2   Cathrine   25     67\n",
       "3    Madonna   24     55\n",
       "4      Rocky   31     47\n",
       "5  Sebastian   27     72"
      ]
     },
     "execution_count": 23,
     "metadata": {},
     "output_type": "execute_result"
    }
   ],
   "source": [
    "df1.iloc[:6]"
   ]
  },
  {
   "cell_type": "code",
   "execution_count": 24,
   "id": "00e05b1d-8607-45af-9d2c-fb17eead0a03",
   "metadata": {},
   "outputs": [
    {
     "data": {
      "text/html": [
       "<div>\n",
       "<style scoped>\n",
       "    .dataframe tbody tr th:only-of-type {\n",
       "        vertical-align: middle;\n",
       "    }\n",
       "\n",
       "    .dataframe tbody tr th {\n",
       "        vertical-align: top;\n",
       "    }\n",
       "\n",
       "    .dataframe thead th {\n",
       "        text-align: right;\n",
       "    }\n",
       "</style>\n",
       "<table border=\"1\" class=\"dataframe\">\n",
       "  <thead>\n",
       "    <tr style=\"text-align: right;\">\n",
       "      <th></th>\n",
       "      <th>Name</th>\n",
       "      <th>Age</th>\n",
       "      <th>Score</th>\n",
       "    </tr>\n",
       "  </thead>\n",
       "  <tbody>\n",
       "    <tr>\n",
       "      <th>11</th>\n",
       "      <td>Teresa</td>\n",
       "      <td>47</td>\n",
       "      <td>69</td>\n",
       "    </tr>\n",
       "    <tr>\n",
       "      <th>10</th>\n",
       "      <td>Ajay</td>\n",
       "      <td>51</td>\n",
       "      <td>99</td>\n",
       "    </tr>\n",
       "    <tr>\n",
       "      <th>9</th>\n",
       "      <td>Andrew</td>\n",
       "      <td>32</td>\n",
       "      <td>92</td>\n",
       "    </tr>\n",
       "    <tr>\n",
       "      <th>8</th>\n",
       "      <td>David</td>\n",
       "      <td>42</td>\n",
       "      <td>44</td>\n",
       "    </tr>\n",
       "    <tr>\n",
       "      <th>7</th>\n",
       "      <td>Rahul</td>\n",
       "      <td>33</td>\n",
       "      <td>79</td>\n",
       "    </tr>\n",
       "    <tr>\n",
       "      <th>6</th>\n",
       "      <td>Jaqluine</td>\n",
       "      <td>25</td>\n",
       "      <td>76</td>\n",
       "    </tr>\n",
       "    <tr>\n",
       "      <th>5</th>\n",
       "      <td>Sebastian</td>\n",
       "      <td>27</td>\n",
       "      <td>72</td>\n",
       "    </tr>\n",
       "    <tr>\n",
       "      <th>4</th>\n",
       "      <td>Rocky</td>\n",
       "      <td>31</td>\n",
       "      <td>47</td>\n",
       "    </tr>\n",
       "    <tr>\n",
       "      <th>3</th>\n",
       "      <td>Madonna</td>\n",
       "      <td>24</td>\n",
       "      <td>55</td>\n",
       "    </tr>\n",
       "    <tr>\n",
       "      <th>2</th>\n",
       "      <td>Cathrine</td>\n",
       "      <td>25</td>\n",
       "      <td>67</td>\n",
       "    </tr>\n",
       "    <tr>\n",
       "      <th>1</th>\n",
       "      <td>Bobby</td>\n",
       "      <td>27</td>\n",
       "      <td>87</td>\n",
       "    </tr>\n",
       "    <tr>\n",
       "      <th>0</th>\n",
       "      <td>Alisa</td>\n",
       "      <td>26</td>\n",
       "      <td>89</td>\n",
       "    </tr>\n",
       "  </tbody>\n",
       "</table>\n",
       "</div>"
      ],
      "text/plain": [
       "         Name  Age  Score\n",
       "11     Teresa   47     69\n",
       "10       Ajay   51     99\n",
       "9      Andrew   32     92\n",
       "8       David   42     44\n",
       "7       Rahul   33     79\n",
       "6    Jaqluine   25     76\n",
       "5   Sebastian   27     72\n",
       "4       Rocky   31     47\n",
       "3     Madonna   24     55\n",
       "2    Cathrine   25     67\n",
       "1       Bobby   27     87\n",
       "0       Alisa   26     89"
      ]
     },
     "execution_count": 24,
     "metadata": {},
     "output_type": "execute_result"
    }
   ],
   "source": [
    "# sort the pandas dataframe by index descending\n",
    " \n",
    "df2=df.sort_index(ascending=False)\n",
    "df2"
   ]
  },
  {
   "cell_type": "markdown",
   "id": "c67eb262-3acc-4677-b119-afe07c481174",
   "metadata": {},
   "source": [
    "# loc와 iloc을 이용해 열(column) 추출하기"
   ]
  },
  {
   "cell_type": "code",
   "execution_count": 25,
   "id": "a59b4e7d-c57d-4ca6-8210-fd0c978bddf9",
   "metadata": {},
   "outputs": [
    {
     "data": {
      "text/plain": [
       "11    69\n",
       "10    99\n",
       "9     92\n",
       "8     44\n",
       "7     79\n",
       "6     76\n",
       "5     72\n",
       "4     47\n",
       "3     55\n",
       "2     67\n",
       "1     87\n",
       "0     89\n",
       "Name: Score, dtype: int64"
      ]
     },
     "execution_count": 25,
     "metadata": {},
     "output_type": "execute_result"
    }
   ],
   "source": [
    "df2.iloc[:, 2]"
   ]
  },
  {
   "cell_type": "code",
   "execution_count": 26,
   "id": "45a2667c-7581-485f-b854-5a291875fcb1",
   "metadata": {},
   "outputs": [
    {
     "data": {
      "text/html": [
       "<div>\n",
       "<style scoped>\n",
       "    .dataframe tbody tr th:only-of-type {\n",
       "        vertical-align: middle;\n",
       "    }\n",
       "\n",
       "    .dataframe tbody tr th {\n",
       "        vertical-align: top;\n",
       "    }\n",
       "\n",
       "    .dataframe thead th {\n",
       "        text-align: right;\n",
       "    }\n",
       "</style>\n",
       "<table border=\"1\" class=\"dataframe\">\n",
       "  <thead>\n",
       "    <tr style=\"text-align: right;\">\n",
       "      <th></th>\n",
       "      <th>Name</th>\n",
       "      <th>Age</th>\n",
       "    </tr>\n",
       "  </thead>\n",
       "  <tbody>\n",
       "    <tr>\n",
       "      <th>11</th>\n",
       "      <td>Teresa</td>\n",
       "      <td>47</td>\n",
       "    </tr>\n",
       "    <tr>\n",
       "      <th>10</th>\n",
       "      <td>Ajay</td>\n",
       "      <td>51</td>\n",
       "    </tr>\n",
       "    <tr>\n",
       "      <th>9</th>\n",
       "      <td>Andrew</td>\n",
       "      <td>32</td>\n",
       "    </tr>\n",
       "    <tr>\n",
       "      <th>8</th>\n",
       "      <td>David</td>\n",
       "      <td>42</td>\n",
       "    </tr>\n",
       "    <tr>\n",
       "      <th>7</th>\n",
       "      <td>Rahul</td>\n",
       "      <td>33</td>\n",
       "    </tr>\n",
       "    <tr>\n",
       "      <th>6</th>\n",
       "      <td>Jaqluine</td>\n",
       "      <td>25</td>\n",
       "    </tr>\n",
       "    <tr>\n",
       "      <th>5</th>\n",
       "      <td>Sebastian</td>\n",
       "      <td>27</td>\n",
       "    </tr>\n",
       "    <tr>\n",
       "      <th>4</th>\n",
       "      <td>Rocky</td>\n",
       "      <td>31</td>\n",
       "    </tr>\n",
       "    <tr>\n",
       "      <th>3</th>\n",
       "      <td>Madonna</td>\n",
       "      <td>24</td>\n",
       "    </tr>\n",
       "    <tr>\n",
       "      <th>2</th>\n",
       "      <td>Cathrine</td>\n",
       "      <td>25</td>\n",
       "    </tr>\n",
       "    <tr>\n",
       "      <th>1</th>\n",
       "      <td>Bobby</td>\n",
       "      <td>27</td>\n",
       "    </tr>\n",
       "    <tr>\n",
       "      <th>0</th>\n",
       "      <td>Alisa</td>\n",
       "      <td>26</td>\n",
       "    </tr>\n",
       "  </tbody>\n",
       "</table>\n",
       "</div>"
      ],
      "text/plain": [
       "         Name  Age\n",
       "11     Teresa   47\n",
       "10       Ajay   51\n",
       "9      Andrew   32\n",
       "8       David   42\n",
       "7       Rahul   33\n",
       "6    Jaqluine   25\n",
       "5   Sebastian   27\n",
       "4       Rocky   31\n",
       "3     Madonna   24\n",
       "2    Cathrine   25\n",
       "1       Bobby   27\n",
       "0       Alisa   26"
      ]
     },
     "execution_count": 26,
     "metadata": {},
     "output_type": "execute_result"
    }
   ],
   "source": [
    "df2.loc[:, ['Name', 'Age']]"
   ]
  },
  {
   "cell_type": "code",
   "execution_count": 27,
   "id": "8531b8a8-bf7d-4de7-8127-fb232bfa2bfd",
   "metadata": {},
   "outputs": [
    {
     "data": {
      "text/html": [
       "<div>\n",
       "<style scoped>\n",
       "    .dataframe tbody tr th:only-of-type {\n",
       "        vertical-align: middle;\n",
       "    }\n",
       "\n",
       "    .dataframe tbody tr th {\n",
       "        vertical-align: top;\n",
       "    }\n",
       "\n",
       "    .dataframe thead th {\n",
       "        text-align: right;\n",
       "    }\n",
       "</style>\n",
       "<table border=\"1\" class=\"dataframe\">\n",
       "  <thead>\n",
       "    <tr style=\"text-align: right;\">\n",
       "      <th></th>\n",
       "      <th>Name</th>\n",
       "      <th>Age</th>\n",
       "    </tr>\n",
       "  </thead>\n",
       "  <tbody>\n",
       "    <tr>\n",
       "      <th>11</th>\n",
       "      <td>Teresa</td>\n",
       "      <td>47</td>\n",
       "    </tr>\n",
       "    <tr>\n",
       "      <th>10</th>\n",
       "      <td>Ajay</td>\n",
       "      <td>51</td>\n",
       "    </tr>\n",
       "    <tr>\n",
       "      <th>9</th>\n",
       "      <td>Andrew</td>\n",
       "      <td>32</td>\n",
       "    </tr>\n",
       "    <tr>\n",
       "      <th>8</th>\n",
       "      <td>David</td>\n",
       "      <td>42</td>\n",
       "    </tr>\n",
       "    <tr>\n",
       "      <th>7</th>\n",
       "      <td>Rahul</td>\n",
       "      <td>33</td>\n",
       "    </tr>\n",
       "    <tr>\n",
       "      <th>6</th>\n",
       "      <td>Jaqluine</td>\n",
       "      <td>25</td>\n",
       "    </tr>\n",
       "    <tr>\n",
       "      <th>5</th>\n",
       "      <td>Sebastian</td>\n",
       "      <td>27</td>\n",
       "    </tr>\n",
       "    <tr>\n",
       "      <th>4</th>\n",
       "      <td>Rocky</td>\n",
       "      <td>31</td>\n",
       "    </tr>\n",
       "    <tr>\n",
       "      <th>3</th>\n",
       "      <td>Madonna</td>\n",
       "      <td>24</td>\n",
       "    </tr>\n",
       "    <tr>\n",
       "      <th>2</th>\n",
       "      <td>Cathrine</td>\n",
       "      <td>25</td>\n",
       "    </tr>\n",
       "    <tr>\n",
       "      <th>1</th>\n",
       "      <td>Bobby</td>\n",
       "      <td>27</td>\n",
       "    </tr>\n",
       "    <tr>\n",
       "      <th>0</th>\n",
       "      <td>Alisa</td>\n",
       "      <td>26</td>\n",
       "    </tr>\n",
       "  </tbody>\n",
       "</table>\n",
       "</div>"
      ],
      "text/plain": [
       "         Name  Age\n",
       "11     Teresa   47\n",
       "10       Ajay   51\n",
       "9      Andrew   32\n",
       "8       David   42\n",
       "7       Rahul   33\n",
       "6    Jaqluine   25\n",
       "5   Sebastian   27\n",
       "4       Rocky   31\n",
       "3     Madonna   24\n",
       "2    Cathrine   25\n",
       "1       Bobby   27\n",
       "0       Alisa   26"
      ]
     },
     "execution_count": 27,
     "metadata": {},
     "output_type": "execute_result"
    }
   ],
   "source": [
    "df2.iloc[:, :2]"
   ]
  },
  {
   "cell_type": "code",
   "execution_count": 28,
   "id": "649fe68a-01a1-4131-97e8-cc3f375526ac",
   "metadata": {},
   "outputs": [
    {
     "data": {
      "text/html": [
       "<div>\n",
       "<style scoped>\n",
       "    .dataframe tbody tr th:only-of-type {\n",
       "        vertical-align: middle;\n",
       "    }\n",
       "\n",
       "    .dataframe tbody tr th {\n",
       "        vertical-align: top;\n",
       "    }\n",
       "\n",
       "    .dataframe thead th {\n",
       "        text-align: right;\n",
       "    }\n",
       "</style>\n",
       "<table border=\"1\" class=\"dataframe\">\n",
       "  <thead>\n",
       "    <tr style=\"text-align: right;\">\n",
       "      <th></th>\n",
       "      <th>Name</th>\n",
       "      <th>Age</th>\n",
       "    </tr>\n",
       "  </thead>\n",
       "  <tbody>\n",
       "    <tr>\n",
       "      <th>11</th>\n",
       "      <td>Teresa</td>\n",
       "      <td>47</td>\n",
       "    </tr>\n",
       "    <tr>\n",
       "      <th>10</th>\n",
       "      <td>Ajay</td>\n",
       "      <td>51</td>\n",
       "    </tr>\n",
       "    <tr>\n",
       "      <th>9</th>\n",
       "      <td>Andrew</td>\n",
       "      <td>32</td>\n",
       "    </tr>\n",
       "    <tr>\n",
       "      <th>8</th>\n",
       "      <td>David</td>\n",
       "      <td>42</td>\n",
       "    </tr>\n",
       "    <tr>\n",
       "      <th>7</th>\n",
       "      <td>Rahul</td>\n",
       "      <td>33</td>\n",
       "    </tr>\n",
       "    <tr>\n",
       "      <th>6</th>\n",
       "      <td>Jaqluine</td>\n",
       "      <td>25</td>\n",
       "    </tr>\n",
       "    <tr>\n",
       "      <th>5</th>\n",
       "      <td>Sebastian</td>\n",
       "      <td>27</td>\n",
       "    </tr>\n",
       "    <tr>\n",
       "      <th>4</th>\n",
       "      <td>Rocky</td>\n",
       "      <td>31</td>\n",
       "    </tr>\n",
       "    <tr>\n",
       "      <th>3</th>\n",
       "      <td>Madonna</td>\n",
       "      <td>24</td>\n",
       "    </tr>\n",
       "    <tr>\n",
       "      <th>2</th>\n",
       "      <td>Cathrine</td>\n",
       "      <td>25</td>\n",
       "    </tr>\n",
       "    <tr>\n",
       "      <th>1</th>\n",
       "      <td>Bobby</td>\n",
       "      <td>27</td>\n",
       "    </tr>\n",
       "    <tr>\n",
       "      <th>0</th>\n",
       "      <td>Alisa</td>\n",
       "      <td>26</td>\n",
       "    </tr>\n",
       "  </tbody>\n",
       "</table>\n",
       "</div>"
      ],
      "text/plain": [
       "         Name  Age\n",
       "11     Teresa   47\n",
       "10       Ajay   51\n",
       "9      Andrew   32\n",
       "8       David   42\n",
       "7       Rahul   33\n",
       "6    Jaqluine   25\n",
       "5   Sebastian   27\n",
       "4       Rocky   31\n",
       "3     Madonna   24\n",
       "2    Cathrine   25\n",
       "1       Bobby   27\n",
       "0       Alisa   26"
      ]
     },
     "execution_count": 28,
     "metadata": {},
     "output_type": "execute_result"
    }
   ],
   "source": [
    "df2.loc[:, :'Age']"
   ]
  },
  {
   "cell_type": "markdown",
   "id": "338ddbff-59f5-4c04-8ca5-c13e8b583266",
   "metadata": {},
   "source": [
    "# CSV 파일에서 읽어오기"
   ]
  },
  {
   "cell_type": "code",
   "execution_count": 2,
   "id": "d8e69a71-1df2-4272-ab66-2a4943388ebd",
   "metadata": {},
   "outputs": [],
   "source": [
    "df = pd.read_csv('https://raw.githubusercontent.com/zachmayer/kaggleNCAA/master/inst/kaggle_data/RegularSeasonCompactResults.csv')"
   ]
  },
  {
   "cell_type": "code",
   "execution_count": 3,
   "id": "1ff07706-3c2f-4499-b98c-d5d6222e5b77",
   "metadata": {},
   "outputs": [
    {
     "data": {
      "text/html": [
       "<div>\n",
       "<style scoped>\n",
       "    .dataframe tbody tr th:only-of-type {\n",
       "        vertical-align: middle;\n",
       "    }\n",
       "\n",
       "    .dataframe tbody tr th {\n",
       "        vertical-align: top;\n",
       "    }\n",
       "\n",
       "    .dataframe thead th {\n",
       "        text-align: right;\n",
       "    }\n",
       "</style>\n",
       "<table border=\"1\" class=\"dataframe\">\n",
       "  <thead>\n",
       "    <tr style=\"text-align: right;\">\n",
       "      <th></th>\n",
       "      <th>Season</th>\n",
       "      <th>DayNum</th>\n",
       "      <th>WTeamID</th>\n",
       "      <th>WScore</th>\n",
       "      <th>LTeamID</th>\n",
       "      <th>LScore</th>\n",
       "      <th>WLoc</th>\n",
       "      <th>NumOT</th>\n",
       "    </tr>\n",
       "  </thead>\n",
       "  <tbody>\n",
       "    <tr>\n",
       "      <th>0</th>\n",
       "      <td>1985</td>\n",
       "      <td>20</td>\n",
       "      <td>1228</td>\n",
       "      <td>81</td>\n",
       "      <td>1328</td>\n",
       "      <td>64</td>\n",
       "      <td>N</td>\n",
       "      <td>0</td>\n",
       "    </tr>\n",
       "    <tr>\n",
       "      <th>1</th>\n",
       "      <td>1985</td>\n",
       "      <td>25</td>\n",
       "      <td>1106</td>\n",
       "      <td>77</td>\n",
       "      <td>1354</td>\n",
       "      <td>70</td>\n",
       "      <td>H</td>\n",
       "      <td>0</td>\n",
       "    </tr>\n",
       "    <tr>\n",
       "      <th>2</th>\n",
       "      <td>1985</td>\n",
       "      <td>25</td>\n",
       "      <td>1112</td>\n",
       "      <td>63</td>\n",
       "      <td>1223</td>\n",
       "      <td>56</td>\n",
       "      <td>H</td>\n",
       "      <td>0</td>\n",
       "    </tr>\n",
       "    <tr>\n",
       "      <th>3</th>\n",
       "      <td>1985</td>\n",
       "      <td>25</td>\n",
       "      <td>1165</td>\n",
       "      <td>70</td>\n",
       "      <td>1432</td>\n",
       "      <td>54</td>\n",
       "      <td>H</td>\n",
       "      <td>0</td>\n",
       "    </tr>\n",
       "    <tr>\n",
       "      <th>4</th>\n",
       "      <td>1985</td>\n",
       "      <td>25</td>\n",
       "      <td>1192</td>\n",
       "      <td>86</td>\n",
       "      <td>1447</td>\n",
       "      <td>74</td>\n",
       "      <td>H</td>\n",
       "      <td>0</td>\n",
       "    </tr>\n",
       "  </tbody>\n",
       "</table>\n",
       "</div>"
      ],
      "text/plain": [
       "   Season  DayNum  WTeamID  WScore  LTeamID  LScore WLoc  NumOT\n",
       "0    1985      20     1228      81     1328      64    N      0\n",
       "1    1985      25     1106      77     1354      70    H      0\n",
       "2    1985      25     1112      63     1223      56    H      0\n",
       "3    1985      25     1165      70     1432      54    H      0\n",
       "4    1985      25     1192      86     1447      74    H      0"
      ]
     },
     "execution_count": 3,
     "metadata": {},
     "output_type": "execute_result"
    }
   ],
   "source": [
    "df.head()"
   ]
  },
  {
   "cell_type": "code",
   "execution_count": 32,
   "id": "6497e62b-38ed-4fb4-a226-eab800edce0d",
   "metadata": {},
   "outputs": [
    {
     "data": {
      "text/html": [
       "<div>\n",
       "<style scoped>\n",
       "    .dataframe tbody tr th:only-of-type {\n",
       "        vertical-align: middle;\n",
       "    }\n",
       "\n",
       "    .dataframe tbody tr th {\n",
       "        vertical-align: top;\n",
       "    }\n",
       "\n",
       "    .dataframe thead th {\n",
       "        text-align: right;\n",
       "    }\n",
       "</style>\n",
       "<table border=\"1\" class=\"dataframe\">\n",
       "  <thead>\n",
       "    <tr style=\"text-align: right;\">\n",
       "      <th></th>\n",
       "      <th>Season</th>\n",
       "      <th>DayNum</th>\n",
       "      <th>WTeamID</th>\n",
       "      <th>WScore</th>\n",
       "      <th>LTeamID</th>\n",
       "      <th>LScore</th>\n",
       "      <th>WLoc</th>\n",
       "      <th>NumOT</th>\n",
       "    </tr>\n",
       "  </thead>\n",
       "  <tbody>\n",
       "    <tr>\n",
       "      <th>161547</th>\n",
       "      <td>2019</td>\n",
       "      <td>132</td>\n",
       "      <td>1153</td>\n",
       "      <td>69</td>\n",
       "      <td>1222</td>\n",
       "      <td>57</td>\n",
       "      <td>N</td>\n",
       "      <td>0</td>\n",
       "    </tr>\n",
       "    <tr>\n",
       "      <th>161548</th>\n",
       "      <td>2019</td>\n",
       "      <td>132</td>\n",
       "      <td>1209</td>\n",
       "      <td>73</td>\n",
       "      <td>1426</td>\n",
       "      <td>64</td>\n",
       "      <td>N</td>\n",
       "      <td>0</td>\n",
       "    </tr>\n",
       "    <tr>\n",
       "      <th>161549</th>\n",
       "      <td>2019</td>\n",
       "      <td>132</td>\n",
       "      <td>1277</td>\n",
       "      <td>65</td>\n",
       "      <td>1276</td>\n",
       "      <td>60</td>\n",
       "      <td>N</td>\n",
       "      <td>0</td>\n",
       "    </tr>\n",
       "    <tr>\n",
       "      <th>161550</th>\n",
       "      <td>2019</td>\n",
       "      <td>132</td>\n",
       "      <td>1387</td>\n",
       "      <td>55</td>\n",
       "      <td>1382</td>\n",
       "      <td>53</td>\n",
       "      <td>N</td>\n",
       "      <td>0</td>\n",
       "    </tr>\n",
       "    <tr>\n",
       "      <th>161551</th>\n",
       "      <td>2019</td>\n",
       "      <td>132</td>\n",
       "      <td>1463</td>\n",
       "      <td>97</td>\n",
       "      <td>1217</td>\n",
       "      <td>85</td>\n",
       "      <td>H</td>\n",
       "      <td>0</td>\n",
       "    </tr>\n",
       "  </tbody>\n",
       "</table>\n",
       "</div>"
      ],
      "text/plain": [
       "        Season  DayNum  WTeamID  WScore  LTeamID  LScore WLoc  NumOT\n",
       "161547    2019     132     1153      69     1222      57    N      0\n",
       "161548    2019     132     1209      73     1426      64    N      0\n",
       "161549    2019     132     1277      65     1276      60    N      0\n",
       "161550    2019     132     1387      55     1382      53    N      0\n",
       "161551    2019     132     1463      97     1217      85    H      0"
      ]
     },
     "execution_count": 32,
     "metadata": {},
     "output_type": "execute_result"
    }
   ],
   "source": [
    "df.tail()"
   ]
  },
  {
   "cell_type": "code",
   "execution_count": 33,
   "id": "e4f87a35-ea2c-4735-89a2-5811fc43989a",
   "metadata": {},
   "outputs": [
    {
     "data": {
      "text/plain": [
       "(161552, 8)"
      ]
     },
     "execution_count": 33,
     "metadata": {},
     "output_type": "execute_result"
    }
   ],
   "source": [
    "df.shape"
   ]
  },
  {
   "cell_type": "code",
   "execution_count": 34,
   "id": "b9f0e34a-ffc3-4137-8ea3-00a9b518b604",
   "metadata": {},
   "outputs": [
    {
     "data": {
      "text/plain": [
       "['Season', 'DayNum', 'WTeamID', 'WScore', 'LTeamID', 'LScore', 'WLoc', 'NumOT']"
      ]
     },
     "execution_count": 34,
     "metadata": {},
     "output_type": "execute_result"
    }
   ],
   "source": [
    "df.columns.tolist()"
   ]
  },
  {
   "cell_type": "code",
   "execution_count": 35,
   "id": "bb9743f7-0210-4b30-8ead-2e3dadae6637",
   "metadata": {},
   "outputs": [
    {
     "data": {
      "text/html": [
       "<div>\n",
       "<style scoped>\n",
       "    .dataframe tbody tr th:only-of-type {\n",
       "        vertical-align: middle;\n",
       "    }\n",
       "\n",
       "    .dataframe tbody tr th {\n",
       "        vertical-align: top;\n",
       "    }\n",
       "\n",
       "    .dataframe thead th {\n",
       "        text-align: right;\n",
       "    }\n",
       "</style>\n",
       "<table border=\"1\" class=\"dataframe\">\n",
       "  <thead>\n",
       "    <tr style=\"text-align: right;\">\n",
       "      <th></th>\n",
       "      <th>Season</th>\n",
       "      <th>DayNum</th>\n",
       "      <th>WTeamID</th>\n",
       "      <th>WScore</th>\n",
       "      <th>LTeamID</th>\n",
       "      <th>LScore</th>\n",
       "      <th>NumOT</th>\n",
       "    </tr>\n",
       "  </thead>\n",
       "  <tbody>\n",
       "    <tr>\n",
       "      <th>count</th>\n",
       "      <td>161552.000000</td>\n",
       "      <td>161552.000000</td>\n",
       "      <td>161552.000000</td>\n",
       "      <td>161552.000000</td>\n",
       "      <td>161552.000000</td>\n",
       "      <td>161552.000000</td>\n",
       "      <td>161552.000000</td>\n",
       "    </tr>\n",
       "    <tr>\n",
       "      <th>mean</th>\n",
       "      <td>2003.228731</td>\n",
       "      <td>74.665359</td>\n",
       "      <td>1286.919004</td>\n",
       "      <td>76.795125</td>\n",
       "      <td>1282.637498</td>\n",
       "      <td>64.692526</td>\n",
       "      <td>0.045137</td>\n",
       "    </tr>\n",
       "    <tr>\n",
       "      <th>std</th>\n",
       "      <td>10.058660</td>\n",
       "      <td>33.670352</td>\n",
       "      <td>104.521630</td>\n",
       "      <td>12.066260</td>\n",
       "      <td>104.742961</td>\n",
       "      <td>11.349610</td>\n",
       "      <td>0.249751</td>\n",
       "    </tr>\n",
       "    <tr>\n",
       "      <th>min</th>\n",
       "      <td>1985.000000</td>\n",
       "      <td>0.000000</td>\n",
       "      <td>1101.000000</td>\n",
       "      <td>34.000000</td>\n",
       "      <td>1101.000000</td>\n",
       "      <td>20.000000</td>\n",
       "      <td>0.000000</td>\n",
       "    </tr>\n",
       "    <tr>\n",
       "      <th>25%</th>\n",
       "      <td>1995.000000</td>\n",
       "      <td>47.000000</td>\n",
       "      <td>1198.000000</td>\n",
       "      <td>69.000000</td>\n",
       "      <td>1191.000000</td>\n",
       "      <td>57.000000</td>\n",
       "      <td>0.000000</td>\n",
       "    </tr>\n",
       "    <tr>\n",
       "      <th>50%</th>\n",
       "      <td>2004.000000</td>\n",
       "      <td>77.000000</td>\n",
       "      <td>1284.000000</td>\n",
       "      <td>76.000000</td>\n",
       "      <td>1280.000000</td>\n",
       "      <td>64.000000</td>\n",
       "      <td>0.000000</td>\n",
       "    </tr>\n",
       "    <tr>\n",
       "      <th>75%</th>\n",
       "      <td>2012.000000</td>\n",
       "      <td>103.000000</td>\n",
       "      <td>1380.000000</td>\n",
       "      <td>84.000000</td>\n",
       "      <td>1375.000000</td>\n",
       "      <td>72.000000</td>\n",
       "      <td>0.000000</td>\n",
       "    </tr>\n",
       "    <tr>\n",
       "      <th>max</th>\n",
       "      <td>2019.000000</td>\n",
       "      <td>132.000000</td>\n",
       "      <td>1466.000000</td>\n",
       "      <td>186.000000</td>\n",
       "      <td>1466.000000</td>\n",
       "      <td>150.000000</td>\n",
       "      <td>6.000000</td>\n",
       "    </tr>\n",
       "  </tbody>\n",
       "</table>\n",
       "</div>"
      ],
      "text/plain": [
       "              Season         DayNum        WTeamID         WScore  \\\n",
       "count  161552.000000  161552.000000  161552.000000  161552.000000   \n",
       "mean     2003.228731      74.665359    1286.919004      76.795125   \n",
       "std        10.058660      33.670352     104.521630      12.066260   \n",
       "min      1985.000000       0.000000    1101.000000      34.000000   \n",
       "25%      1995.000000      47.000000    1198.000000      69.000000   \n",
       "50%      2004.000000      77.000000    1284.000000      76.000000   \n",
       "75%      2012.000000     103.000000    1380.000000      84.000000   \n",
       "max      2019.000000     132.000000    1466.000000     186.000000   \n",
       "\n",
       "             LTeamID         LScore          NumOT  \n",
       "count  161552.000000  161552.000000  161552.000000  \n",
       "mean     1282.637498      64.692526       0.045137  \n",
       "std       104.742961      11.349610       0.249751  \n",
       "min      1101.000000      20.000000       0.000000  \n",
       "25%      1191.000000      57.000000       0.000000  \n",
       "50%      1280.000000      64.000000       0.000000  \n",
       "75%      1375.000000      72.000000       0.000000  \n",
       "max      1466.000000     150.000000       6.000000  "
      ]
     },
     "execution_count": 35,
     "metadata": {},
     "output_type": "execute_result"
    }
   ],
   "source": [
    "df.describe()"
   ]
  },
  {
   "cell_type": "code",
   "execution_count": 36,
   "id": "a3dfc58f-f249-49d6-8110-2c414765be74",
   "metadata": {},
   "outputs": [
    {
     "data": {
      "text/plain": [
       "Season     2019\n",
       "DayNum      132\n",
       "WTeamID    1466\n",
       "WScore      186\n",
       "LTeamID    1466\n",
       "LScore      150\n",
       "WLoc          N\n",
       "NumOT         6\n",
       "dtype: object"
      ]
     },
     "execution_count": 36,
     "metadata": {},
     "output_type": "execute_result"
    }
   ],
   "source": [
    "df.max()"
   ]
  },
  {
   "cell_type": "code",
   "execution_count": 38,
   "id": "1b9866c0-d283-4e38-b087-846765ae68de",
   "metadata": {},
   "outputs": [
    {
     "data": {
      "text/plain": [
       "186"
      ]
     },
     "execution_count": 38,
     "metadata": {},
     "output_type": "execute_result"
    }
   ],
   "source": [
    "df['WScore'].max()"
   ]
  },
  {
   "cell_type": "code",
   "execution_count": 39,
   "id": "7dad9f93-c9b7-463d-b0fd-64404a4d1cf2",
   "metadata": {},
   "outputs": [
    {
     "data": {
      "text/plain": [
       "64.69252624541943"
      ]
     },
     "execution_count": 39,
     "metadata": {},
     "output_type": "execute_result"
    }
   ],
   "source": [
    "df['LScore'].mean()"
   ]
  },
  {
   "cell_type": "code",
   "execution_count": 41,
   "id": "7360b6a2-441a-4e93-8d32-172cab09e8fc",
   "metadata": {},
   "outputs": [
    {
     "data": {
      "text/plain": [
       "24970"
      ]
     },
     "execution_count": 41,
     "metadata": {},
     "output_type": "execute_result"
    }
   ],
   "source": [
    "df['WScore'].argmax()"
   ]
  },
  {
   "cell_type": "code",
   "execution_count": 42,
   "id": "3fd27634-1999-456d-a7bc-bc04225a1431",
   "metadata": {},
   "outputs": [
    {
     "data": {
      "text/plain": [
       "Season     1991\n",
       "DayNum       68\n",
       "WTeamID    1258\n",
       "WScore      186\n",
       "LTeamID    1109\n",
       "LScore      140\n",
       "WLoc          H\n",
       "NumOT         0\n",
       "Name: 24970, dtype: object"
      ]
     },
     "execution_count": 42,
     "metadata": {},
     "output_type": "execute_result"
    }
   ],
   "source": [
    "df.loc[24970] #반환된 index 값을 이용해 값을 출력"
   ]
  },
  {
   "cell_type": "code",
   "execution_count": 44,
   "id": "147d329c-2b66-4624-b651-7e2027761e45",
   "metadata": {},
   "outputs": [
    {
     "data": {
      "text/plain": [
       "Season     1991\n",
       "DayNum       68\n",
       "WTeamID    1258\n",
       "WScore      186\n",
       "LTeamID    1109\n",
       "LScore      140\n",
       "WLoc          H\n",
       "NumOT         0\n",
       "Name: 24970, dtype: object"
      ]
     },
     "execution_count": 44,
     "metadata": {},
     "output_type": "execute_result"
    }
   ],
   "source": [
    "df.loc[df['WScore'].idxmax()] #위 과정을 하나로 합침"
   ]
  },
  {
   "cell_type": "code",
   "execution_count": 45,
   "id": "a17fdb6d-442e-4146-ad4b-c24669f4572e",
   "metadata": {},
   "outputs": [
    {
     "data": {
      "text/plain": [
       "2019    5463\n",
       "2018    5405\n",
       "2017    5395\n",
       "2016    5369\n",
       "2014    5362\n",
       "2015    5354\n",
       "2013    5320\n",
       "2010    5263\n",
       "2012    5253\n",
       "2009    5249\n",
       "2011    5246\n",
       "2008    5163\n",
       "2007    5043\n",
       "2006    4757\n",
       "2005    4675\n",
       "2003    4616\n",
       "2004    4571\n",
       "2002    4555\n",
       "2000    4519\n",
       "2001    4467\n",
       "1999    4222\n",
       "1998    4167\n",
       "1997    4155\n",
       "1992    4127\n",
       "1991    4123\n",
       "1996    4122\n",
       "1995    4077\n",
       "1994    4060\n",
       "1990    4045\n",
       "1989    4037\n",
       "1993    3982\n",
       "1988    3955\n",
       "1987    3915\n",
       "1986    3783\n",
       "1985    3737\n",
       "Name: Season, dtype: int64"
      ]
     },
     "execution_count": 45,
     "metadata": {},
     "output_type": "execute_result"
    }
   ],
   "source": [
    "df['Season'].value_counts()"
   ]
  },
  {
   "cell_type": "markdown",
   "id": "d0071c86-d7f3-43b6-a92f-2388e8cc03c3",
   "metadata": {},
   "source": [
    "# 데이터프레임 값 추출"
   ]
  },
  {
   "cell_type": "code",
   "execution_count": 4,
   "id": "c4426751-0bc7-4dda-b398-87dc0636c351",
   "metadata": {},
   "outputs": [
    {
     "data": {
      "text/plain": [
       "0    81\n",
       "1    77\n",
       "2    63\n",
       "3    70\n",
       "4    86\n",
       "Name: WScore, dtype: int64"
      ]
     },
     "execution_count": 4,
     "metadata": {},
     "output_type": "execute_result"
    }
   ],
   "source": [
    "Wscore = df['WScore']\n",
    "Wscore.head() #갯수가 너무 많으므로 뒤에 head()함수를 써서 앞부분만 추출"
   ]
  },
  {
   "cell_type": "code",
   "execution_count": 47,
   "id": "d68c244e-3abf-49d5-96f2-64553ec4e82e",
   "metadata": {},
   "outputs": [
    {
     "data": {
      "text/html": [
       "<div>\n",
       "<style scoped>\n",
       "    .dataframe tbody tr th:only-of-type {\n",
       "        vertical-align: middle;\n",
       "    }\n",
       "\n",
       "    .dataframe tbody tr th {\n",
       "        vertical-align: top;\n",
       "    }\n",
       "\n",
       "    .dataframe thead th {\n",
       "        text-align: right;\n",
       "    }\n",
       "</style>\n",
       "<table border=\"1\" class=\"dataframe\">\n",
       "  <thead>\n",
       "    <tr style=\"text-align: right;\">\n",
       "      <th></th>\n",
       "      <th>Season</th>\n",
       "      <th>DayNum</th>\n",
       "      <th>WTeamID</th>\n",
       "      <th>WScore</th>\n",
       "      <th>LTeamID</th>\n",
       "      <th>LScore</th>\n",
       "      <th>WLoc</th>\n",
       "      <th>NumOT</th>\n",
       "    </tr>\n",
       "  </thead>\n",
       "  <tbody>\n",
       "    <tr>\n",
       "      <th>24970</th>\n",
       "      <td>1991</td>\n",
       "      <td>68</td>\n",
       "      <td>1258</td>\n",
       "      <td>186</td>\n",
       "      <td>1109</td>\n",
       "      <td>140</td>\n",
       "      <td>H</td>\n",
       "      <td>0</td>\n",
       "    </tr>\n",
       "  </tbody>\n",
       "</table>\n",
       "</div>"
      ],
      "text/plain": [
       "       Season  DayNum  WTeamID  WScore  LTeamID  LScore WLoc  NumOT\n",
       "24970    1991      68     1258     186     1109     140    H      0"
      ]
     },
     "execution_count": 47,
     "metadata": {},
     "output_type": "execute_result"
    }
   ],
   "source": [
    "df.loc[[df['WScore'].idxmax()]]"
   ]
  },
  {
   "cell_type": "code",
   "execution_count": 48,
   "id": "8205e9a2-2ff4-4e5e-a862-4bbc82a99367",
   "metadata": {},
   "outputs": [
    {
     "data": {
      "text/plain": [
       "Season     1991\n",
       "DayNum       68\n",
       "WTeamID    1258\n",
       "WScore      186\n",
       "LTeamID    1109\n",
       "LScore      140\n",
       "WLoc          H\n",
       "NumOT         0\n",
       "Name: 24970, dtype: object"
      ]
     },
     "execution_count": 48,
     "metadata": {},
     "output_type": "execute_result"
    }
   ],
   "source": [
    "df.loc[df['WScore'].idxmax()]"
   ]
  },
  {
   "cell_type": "code",
   "execution_count": 49,
   "id": "d445caf5-e9ba-4c16-98f0-394c01551476",
   "metadata": {},
   "outputs": [
    {
     "data": {
      "text/plain": [
       "24970    140\n",
       "Name: LScore, dtype: int64"
      ]
     },
     "execution_count": 49,
     "metadata": {},
     "output_type": "execute_result"
    }
   ],
   "source": [
    "df.loc[[df['WScore'].idxmax()]]['LScore']"
   ]
  },
  {
   "cell_type": "code",
   "execution_count": 50,
   "id": "e02ebbbe-5139-4d20-b2a1-19a9cfa8303d",
   "metadata": {},
   "outputs": [
    {
     "data": {
      "text/plain": [
       "140"
      ]
     },
     "execution_count": 50,
     "metadata": {},
     "output_type": "execute_result"
    }
   ],
   "source": [
    "df.loc[df['WScore'].idxmax()]['LScore']"
   ]
  },
  {
   "cell_type": "code",
   "execution_count": 51,
   "id": "0d1d94dc-9a11-4add-8974-06758020446e",
   "metadata": {},
   "outputs": [
    {
     "data": {
      "text/plain": [
       "140"
      ]
     },
     "execution_count": 51,
     "metadata": {},
     "output_type": "execute_result"
    }
   ],
   "source": [
    "df.loc[df['WScore'].idxmax(), 'LScore']"
   ]
  },
  {
   "cell_type": "code",
   "execution_count": 52,
   "id": "331e049f-bac1-45f5-9777-ffe944a89cb1",
   "metadata": {},
   "outputs": [
    {
     "data": {
      "text/plain": [
       "pandas.core.series.Series"
      ]
     },
     "execution_count": 52,
     "metadata": {},
     "output_type": "execute_result"
    }
   ],
   "source": [
    "type(df.loc[[df['WScore'].idxmax()]]['LScore'])"
   ]
  },
  {
   "cell_type": "code",
   "execution_count": 53,
   "id": "bc9746fc-9628-4890-b163-09b250841d02",
   "metadata": {},
   "outputs": [
    {
     "data": {
      "text/plain": [
       "pandas.core.frame.DataFrame"
      ]
     },
     "execution_count": 53,
     "metadata": {},
     "output_type": "execute_result"
    }
   ],
   "source": [
    "type(df.loc[[df['WScore'].idxmax()]])"
   ]
  },
  {
   "cell_type": "markdown",
   "id": "79bac662-89aa-4671-8c33-c1d2bc9eb91f",
   "metadata": {},
   "source": [
    "# 정렬"
   ]
  },
  {
   "cell_type": "code",
   "execution_count": 6,
   "id": "1ad06fca-c8b3-4190-a9d8-2abcb3799361",
   "metadata": {},
   "outputs": [
    {
     "data": {
      "text/html": [
       "<div>\n",
       "<style scoped>\n",
       "    .dataframe tbody tr th:only-of-type {\n",
       "        vertical-align: middle;\n",
       "    }\n",
       "\n",
       "    .dataframe tbody tr th {\n",
       "        vertical-align: top;\n",
       "    }\n",
       "\n",
       "    .dataframe thead th {\n",
       "        text-align: right;\n",
       "    }\n",
       "</style>\n",
       "<table border=\"1\" class=\"dataframe\">\n",
       "  <thead>\n",
       "    <tr style=\"text-align: right;\">\n",
       "      <th></th>\n",
       "      <th>Season</th>\n",
       "      <th>DayNum</th>\n",
       "      <th>WTeamID</th>\n",
       "      <th>WScore</th>\n",
       "      <th>LTeamID</th>\n",
       "      <th>LScore</th>\n",
       "      <th>WLoc</th>\n",
       "      <th>NumOT</th>\n",
       "    </tr>\n",
       "  </thead>\n",
       "  <tbody>\n",
       "    <tr>\n",
       "      <th>100027</th>\n",
       "      <td>2008</td>\n",
       "      <td>66</td>\n",
       "      <td>1203</td>\n",
       "      <td>49</td>\n",
       "      <td>1387</td>\n",
       "      <td>20</td>\n",
       "      <td>H</td>\n",
       "      <td>0</td>\n",
       "    </tr>\n",
       "    <tr>\n",
       "      <th>49310</th>\n",
       "      <td>1997</td>\n",
       "      <td>66</td>\n",
       "      <td>1157</td>\n",
       "      <td>61</td>\n",
       "      <td>1204</td>\n",
       "      <td>21</td>\n",
       "      <td>H</td>\n",
       "      <td>0</td>\n",
       "    </tr>\n",
       "    <tr>\n",
       "      <th>89021</th>\n",
       "      <td>2006</td>\n",
       "      <td>44</td>\n",
       "      <td>1284</td>\n",
       "      <td>41</td>\n",
       "      <td>1343</td>\n",
       "      <td>21</td>\n",
       "      <td>A</td>\n",
       "      <td>0</td>\n",
       "    </tr>\n",
       "    <tr>\n",
       "      <th>85042</th>\n",
       "      <td>2005</td>\n",
       "      <td>66</td>\n",
       "      <td>1131</td>\n",
       "      <td>73</td>\n",
       "      <td>1216</td>\n",
       "      <td>22</td>\n",
       "      <td>H</td>\n",
       "      <td>0</td>\n",
       "    </tr>\n",
       "    <tr>\n",
       "      <th>103660</th>\n",
       "      <td>2009</td>\n",
       "      <td>26</td>\n",
       "      <td>1326</td>\n",
       "      <td>59</td>\n",
       "      <td>1359</td>\n",
       "      <td>22</td>\n",
       "      <td>H</td>\n",
       "      <td>0</td>\n",
       "    </tr>\n",
       "  </tbody>\n",
       "</table>\n",
       "</div>"
      ],
      "text/plain": [
       "        Season  DayNum  WTeamID  WScore  LTeamID  LScore WLoc  NumOT\n",
       "100027    2008      66     1203      49     1387      20    H      0\n",
       "49310     1997      66     1157      61     1204      21    H      0\n",
       "89021     2006      44     1284      41     1343      21    A      0\n",
       "85042     2005      66     1131      73     1216      22    H      0\n",
       "103660    2009      26     1326      59     1359      22    H      0"
      ]
     },
     "execution_count": 6,
     "metadata": {},
     "output_type": "execute_result"
    }
   ],
   "source": [
    "df.sort_values('LScore').head()"
   ]
  },
  {
   "cell_type": "markdown",
   "id": "19da6cfa-2d81-4a53-8857-2c3cf492eb15",
   "metadata": {},
   "source": [
    "# 조건에 따라 행 추출\n",
    "이긴 팀의 점수가 150보다 큰 행만 추출하기 위한 두 단계\n",
    "1. 먼저 df['Wscore'] > 150 는 각 행에 대해 Wscore가 150보다 큰 지의 여부를 True/False Series로 반환한다.\n",
    "2. 이 Series를 이용하여 df를 다음과 같이 인덱싱하면 시리즈에서 True인 행들만 추출할 수 있다:\n",
    "**df[df['Wscore'] > 150].**"
   ]
  },
  {
   "cell_type": "code",
   "execution_count": 8,
   "id": "7cfae160-29c4-43e3-9e53-d2314e9203f6",
   "metadata": {},
   "outputs": [
    {
     "name": "stdout",
     "output_type": "stream",
     "text": [
      "<class 'pandas.core.series.Series'>\n"
     ]
    },
    {
     "data": {
      "text/plain": [
       "0    False\n",
       "1    False\n",
       "2    False\n",
       "3    False\n",
       "4    False\n",
       "Name: WScore, dtype: bool"
      ]
     },
     "execution_count": 8,
     "metadata": {},
     "output_type": "execute_result"
    }
   ],
   "source": [
    "print(type(df['WScore'] > 150)) # True/False 시리즈로 반환되는지 확인\n",
    "(df['WScore'] > 150).head() # 시리즈의 앞부분을 확인"
   ]
  },
  {
   "cell_type": "code",
   "execution_count": 10,
   "id": "98e85af9-e46d-405f-87ea-588208aa9f45",
   "metadata": {},
   "outputs": [
    {
     "data": {
      "text/html": [
       "<div>\n",
       "<style scoped>\n",
       "    .dataframe tbody tr th:only-of-type {\n",
       "        vertical-align: middle;\n",
       "    }\n",
       "\n",
       "    .dataframe tbody tr th {\n",
       "        vertical-align: top;\n",
       "    }\n",
       "\n",
       "    .dataframe thead th {\n",
       "        text-align: right;\n",
       "    }\n",
       "</style>\n",
       "<table border=\"1\" class=\"dataframe\">\n",
       "  <thead>\n",
       "    <tr style=\"text-align: right;\">\n",
       "      <th></th>\n",
       "      <th>Season</th>\n",
       "      <th>DayNum</th>\n",
       "      <th>WTeamID</th>\n",
       "      <th>WScore</th>\n",
       "      <th>LTeamID</th>\n",
       "      <th>LScore</th>\n",
       "      <th>WLoc</th>\n",
       "      <th>NumOT</th>\n",
       "    </tr>\n",
       "  </thead>\n",
       "  <tbody>\n",
       "    <tr>\n",
       "      <th>5269</th>\n",
       "      <td>1986</td>\n",
       "      <td>75</td>\n",
       "      <td>1258</td>\n",
       "      <td>151</td>\n",
       "      <td>1109</td>\n",
       "      <td>107</td>\n",
       "      <td>H</td>\n",
       "      <td>0</td>\n",
       "    </tr>\n",
       "    <tr>\n",
       "      <th>12046</th>\n",
       "      <td>1988</td>\n",
       "      <td>40</td>\n",
       "      <td>1328</td>\n",
       "      <td>152</td>\n",
       "      <td>1147</td>\n",
       "      <td>84</td>\n",
       "      <td>H</td>\n",
       "      <td>0</td>\n",
       "    </tr>\n",
       "    <tr>\n",
       "      <th>12355</th>\n",
       "      <td>1988</td>\n",
       "      <td>52</td>\n",
       "      <td>1328</td>\n",
       "      <td>151</td>\n",
       "      <td>1173</td>\n",
       "      <td>99</td>\n",
       "      <td>N</td>\n",
       "      <td>0</td>\n",
       "    </tr>\n",
       "    <tr>\n",
       "      <th>16040</th>\n",
       "      <td>1989</td>\n",
       "      <td>40</td>\n",
       "      <td>1328</td>\n",
       "      <td>152</td>\n",
       "      <td>1331</td>\n",
       "      <td>122</td>\n",
       "      <td>H</td>\n",
       "      <td>0</td>\n",
       "    </tr>\n",
       "    <tr>\n",
       "      <th>16853</th>\n",
       "      <td>1989</td>\n",
       "      <td>68</td>\n",
       "      <td>1258</td>\n",
       "      <td>162</td>\n",
       "      <td>1109</td>\n",
       "      <td>144</td>\n",
       "      <td>A</td>\n",
       "      <td>0</td>\n",
       "    </tr>\n",
       "  </tbody>\n",
       "</table>\n",
       "</div>"
      ],
      "text/plain": [
       "       Season  DayNum  WTeamID  WScore  LTeamID  LScore WLoc  NumOT\n",
       "5269     1986      75     1258     151     1109     107    H      0\n",
       "12046    1988      40     1328     152     1147      84    H      0\n",
       "12355    1988      52     1328     151     1173      99    N      0\n",
       "16040    1989      40     1328     152     1331     122    H      0\n",
       "16853    1989      68     1258     162     1109     144    A      0"
      ]
     },
     "execution_count": 10,
     "metadata": {},
     "output_type": "execute_result"
    }
   ],
   "source": [
    "df[df['WScore'] > 150].head() # Boolean Series를 이용해 조건이 True인 행들만 추출"
   ]
  },
  {
   "cell_type": "code",
   "execution_count": 12,
   "id": "e134efbd-b2b2-47d2-b297-c53b306f1c86",
   "metadata": {},
   "outputs": [
    {
     "data": {
      "text/html": [
       "<div>\n",
       "<style scoped>\n",
       "    .dataframe tbody tr th:only-of-type {\n",
       "        vertical-align: middle;\n",
       "    }\n",
       "\n",
       "    .dataframe tbody tr th {\n",
       "        vertical-align: top;\n",
       "    }\n",
       "\n",
       "    .dataframe thead th {\n",
       "        text-align: right;\n",
       "    }\n",
       "</style>\n",
       "<table border=\"1\" class=\"dataframe\">\n",
       "  <thead>\n",
       "    <tr style=\"text-align: right;\">\n",
       "      <th></th>\n",
       "      <th>Season</th>\n",
       "      <th>DayNum</th>\n",
       "      <th>WTeamID</th>\n",
       "      <th>WScore</th>\n",
       "      <th>LTeamID</th>\n",
       "      <th>LScore</th>\n",
       "      <th>WLoc</th>\n",
       "      <th>NumOT</th>\n",
       "    </tr>\n",
       "  </thead>\n",
       "  <tbody>\n",
       "    <tr>\n",
       "      <th>12046</th>\n",
       "      <td>1988</td>\n",
       "      <td>40</td>\n",
       "      <td>1328</td>\n",
       "      <td>152</td>\n",
       "      <td>1147</td>\n",
       "      <td>84</td>\n",
       "      <td>H</td>\n",
       "      <td>0</td>\n",
       "    </tr>\n",
       "    <tr>\n",
       "      <th>12355</th>\n",
       "      <td>1988</td>\n",
       "      <td>52</td>\n",
       "      <td>1328</td>\n",
       "      <td>151</td>\n",
       "      <td>1173</td>\n",
       "      <td>99</td>\n",
       "      <td>N</td>\n",
       "      <td>0</td>\n",
       "    </tr>\n",
       "    <tr>\n",
       "      <th>25656</th>\n",
       "      <td>1991</td>\n",
       "      <td>84</td>\n",
       "      <td>1106</td>\n",
       "      <td>151</td>\n",
       "      <td>1212</td>\n",
       "      <td>97</td>\n",
       "      <td>H</td>\n",
       "      <td>0</td>\n",
       "    </tr>\n",
       "    <tr>\n",
       "      <th>28687</th>\n",
       "      <td>1992</td>\n",
       "      <td>54</td>\n",
       "      <td>1261</td>\n",
       "      <td>159</td>\n",
       "      <td>1319</td>\n",
       "      <td>86</td>\n",
       "      <td>H</td>\n",
       "      <td>0</td>\n",
       "    </tr>\n",
       "    <tr>\n",
       "      <th>35023</th>\n",
       "      <td>1993</td>\n",
       "      <td>112</td>\n",
       "      <td>1380</td>\n",
       "      <td>155</td>\n",
       "      <td>1341</td>\n",
       "      <td>91</td>\n",
       "      <td>A</td>\n",
       "      <td>0</td>\n",
       "    </tr>\n",
       "    <tr>\n",
       "      <th>52600</th>\n",
       "      <td>1998</td>\n",
       "      <td>33</td>\n",
       "      <td>1395</td>\n",
       "      <td>153</td>\n",
       "      <td>1410</td>\n",
       "      <td>87</td>\n",
       "      <td>H</td>\n",
       "      <td>0</td>\n",
       "    </tr>\n",
       "  </tbody>\n",
       "</table>\n",
       "</div>"
      ],
      "text/plain": [
       "       Season  DayNum  WTeamID  WScore  LTeamID  LScore WLoc  NumOT\n",
       "12046    1988      40     1328     152     1147      84    H      0\n",
       "12355    1988      52     1328     151     1173      99    N      0\n",
       "25656    1991      84     1106     151     1212      97    H      0\n",
       "28687    1992      54     1261     159     1319      86    H      0\n",
       "35023    1993     112     1380     155     1341      91    A      0\n",
       "52600    1998      33     1395     153     1410      87    H      0"
      ]
     },
     "execution_count": 12,
     "metadata": {},
     "output_type": "execute_result"
    }
   ],
   "source": [
    "df[(df['WScore'] > 150) & (df['LScore'] < 100)]"
   ]
  },
  {
   "cell_type": "markdown",
   "id": "e4f9de21-2276-4f67-8a88-2e2c930de3aa",
   "metadata": {},
   "source": [
    "# 그룹화(Grouping)"
   ]
  },
  {
   "cell_type": "code",
   "execution_count": 16,
   "id": "47691442-c991-49ab-a4bc-c5eaf636041b",
   "metadata": {},
   "outputs": [
    {
     "data": {
      "text/plain": [
       "WTeamID\n",
       "1101    75.500000\n",
       "1102    70.675439\n",
       "1103    75.989492\n",
       "1104    75.834586\n",
       "1105    74.788360\n",
       "Name: WScore, dtype: float64"
      ]
     },
     "execution_count": 16,
     "metadata": {},
     "output_type": "execute_result"
    }
   ],
   "source": [
    "df.groupby('WTeamID')['WScore'].mean().head()"
   ]
  },
  {
   "cell_type": "code",
   "execution_count": 18,
   "id": "996dea7f-5927-429c-b485-e178d1306ceb",
   "metadata": {},
   "outputs": [
    {
     "data": {
      "text/plain": [
       "WTeamID  WLoc\n",
       "1101     H        31\n",
       "         A        23\n",
       "         N         8\n",
       "1102     H       228\n",
       "         A        79\n",
       "         N        35\n",
       "1103     H       359\n",
       "         A       163\n",
       "         N        49\n",
       "Name: WLoc, dtype: int64"
      ]
     },
     "execution_count": 18,
     "metadata": {},
     "output_type": "execute_result"
    }
   ],
   "source": [
    "df.groupby('WTeamID')['WLoc'].value_counts().head(9)"
   ]
  },
  {
   "cell_type": "code",
   "execution_count": 19,
   "id": "c2cc6ed3-3a88-49b2-be85-0aa44759444a",
   "metadata": {},
   "outputs": [
    {
     "name": "stdout",
     "output_type": "stream",
     "text": [
      "<class 'numpy.ndarray'>\n",
      "(161552, 8)\n"
     ]
    },
    {
     "data": {
      "text/plain": [
       "array([[1985, 20, 1228, ..., 64, 'N', 0],\n",
       "       [1985, 25, 1106, ..., 70, 'H', 0],\n",
       "       [1985, 25, 1112, ..., 56, 'H', 0],\n",
       "       ...,\n",
       "       [2019, 132, 1277, ..., 60, 'N', 0],\n",
       "       [2019, 132, 1387, ..., 53, 'N', 0],\n",
       "       [2019, 132, 1463, ..., 85, 'H', 0]], dtype=object)"
      ]
     },
     "execution_count": 19,
     "metadata": {},
     "output_type": "execute_result"
    }
   ],
   "source": [
    "print(type(df.values))\n",
    "print(df.values.shape)\n",
    "df.values"
   ]
  },
  {
   "cell_type": "code",
   "execution_count": 20,
   "id": "5292b752-f817-4155-9e2e-88ddd13760d1",
   "metadata": {},
   "outputs": [
    {
     "data": {
      "text/plain": [
       "1985"
      ]
     },
     "execution_count": 20,
     "metadata": {},
     "output_type": "execute_result"
    }
   ],
   "source": [
    "df.values[0, 0]"
   ]
  },
  {
   "cell_type": "markdown",
   "id": "8a786456-1f30-46fa-98ab-408e91ce8cc5",
   "metadata": {},
   "source": [
    "# 데이터프레임 순환\n",
    "iterrows() 함수를 사용하면 데이터프레임의 행 단위로 순환이 가능하다. 각 행은 시리즈 형태로 반환된다."
   ]
  },
  {
   "cell_type": "code",
   "execution_count": 23,
   "id": "6db1e2f0-5bfa-4cd9-9d58-986e63e2e4d5",
   "metadata": {},
   "outputs": [
    {
     "name": "stdout",
     "output_type": "stream",
     "text": [
      "#Data type of row: <class 'pandas.core.series.Series'>\n",
      "Season     1985\n",
      "DayNum       20\n",
      "WTeamID    1228\n",
      "WScore       81\n",
      "LTeamID    1328\n",
      "LScore       64\n",
      "WLoc          N\n",
      "NumOT         0\n",
      "Name: 0, dtype: object \n",
      "\n",
      "#Data type of row: <class 'pandas.core.series.Series'>\n",
      "Season     1985\n",
      "DayNum       25\n",
      "WTeamID    1106\n",
      "WScore       77\n",
      "LTeamID    1354\n",
      "LScore       70\n",
      "WLoc          H\n",
      "NumOT         0\n",
      "Name: 1, dtype: object \n",
      "\n"
     ]
    }
   ],
   "source": [
    "for index, row in df.iterrows():\n",
    "    print('#Data type of row:', type(row))\n",
    "    print(row,'\\n')\n",
    "    if index == 1:\n",
    "        break"
   ]
  },
  {
   "cell_type": "markdown",
   "id": "27701f3f-9e16-471d-bb7f-a40c86ae8644",
   "metadata": {},
   "source": [
    "# 데이터 클리닝"
   ]
  },
  {
   "cell_type": "code",
   "execution_count": 24,
   "id": "52def48c-aa6d-4535-9e0b-d2ed9fa51282",
   "metadata": {},
   "outputs": [
    {
     "data": {
      "text/plain": [
       "Season     0\n",
       "DayNum     0\n",
       "WTeamID    0\n",
       "WScore     0\n",
       "LTeamID    0\n",
       "LScore     0\n",
       "WLoc       0\n",
       "NumOT      0\n",
       "dtype: int64"
      ]
     },
     "execution_count": 24,
     "metadata": {},
     "output_type": "execute_result"
    }
   ],
   "source": [
    "df.isnull().sum()"
   ]
  },
  {
   "cell_type": "code",
   "execution_count": 25,
   "id": "267eae89-fba8-4d96-9712-62f19ab3611f",
   "metadata": {},
   "outputs": [],
   "source": [
    "# df1 = pd.read_csv('sample.csv')\n",
    "# df1.isnull().sum()\n",
    "# df1.fillna(0)\n",
    "# df1.dropna()"
   ]
  },
  {
   "cell_type": "markdown",
   "id": "d8ae6591-2625-4d6f-ac3b-b5dbc3c1cc5c",
   "metadata": {},
   "source": [
    "# 데이터 시각화"
   ]
  },
  {
   "cell_type": "code",
   "execution_count": 26,
   "id": "11a857fd-b617-4f55-a2d2-d7c98ea15940",
   "metadata": {},
   "outputs": [],
   "source": [
    "import matplotlib.pyplot as plt\n",
    "%matplotlib inline"
   ]
  },
  {
   "cell_type": "code",
   "execution_count": 27,
   "id": "72ae80d5-1906-4db4-ba85-f4cdc3596655",
   "metadata": {},
   "outputs": [
    {
     "data": {
      "image/png": "[encoded data removed]",
      "text/plain": [
       "<Figure size 432x288 with 1 Axes>"
      ]
     },
     "metadata": {
      "needs_background": "light"
     },
     "output_type": "display_data"
    }
   ],
   "source": [
    "ax = df['WScore'].plot.hist(bins=20)\n",
    "ax.set_xlabel('Points for Winning Team')\n",
    "plt.show()"
   ]
  },
  {
   "cell_type": "markdown",
   "id": "283d816b-f101-4a2c-95f9-9214c26d6691",
   "metadata": {},
   "source": [
    "# CSV 파일로 데이터프레임 저장"
   ]
  },
  {
   "cell_type": "code",
   "execution_count": 28,
   "id": "02f30c42-4da0-4d46-a111-b955bc0a682b",
   "metadata": {},
   "outputs": [],
   "source": [
    "# df1.fillna(0).to_csv('test.csv')\n",
    "# df2 = pd.read_csv('test.csv')\n",
    "# df2\n",
    "#첫째 방법\n",
    "# df1.fillna(0).to_csv('test.csv', index=False) #인덱스를 저장하지 않음\n",
    "# df2 = pd.read_csv('test.csv')\n",
    "# df2\n",
    "# #둘째 방법\n",
    "# df1.fillna(0).to_csv('test.csv')\n",
    "# df2 = pd.read_csv('test.csv', index_col=0) #첫 열을 인덱스로 저장\n",
    "# df2"
   ]
  }
 ],
 "metadata": {
  "kernelspec": {
   "display_name": "Python 3",
   "language": "python",
   "name": "python3"
  },
  "language_info": {
   "codemirror_mode": {
    "name": "ipython",
    "version": 3
   },
   "file_extension": ".py",
   "mimetype": "text/x-python",
   "name": "python",
   "nbconvert_exporter": "python",
   "pygments_lexer": "ipython3",
   "version": "3.8.8"
  }
 },
 "nbformat": 4,
 "nbformat_minor": 5
}
